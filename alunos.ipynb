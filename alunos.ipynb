{
 "cells": [
  {
   "cell_type": "code",
   "execution_count": 1,
   "id": "5a370e19-d1fc-4768-a213-3f94d8ffc0b9",
   "metadata": {},
   "outputs": [],
   "source": [
    "import pandas as pd\n",
    "import os\n",
    "import requests\n",
    "from zipfile import ZipFile\n",
    "from dbfread import DBF\n",
    "from utils import download_csv"
   ]
  },
  {
   "cell_type": "code",
   "execution_count": 2,
   "id": "95125196-2c2c-4001-9cae-270a97385257",
   "metadata": {},
   "outputs": [],
   "source": [
    "variaveis_observa = pd.read_csv(os.path.join('original_data', 'variaveis_observa.csv'),\n",
    "                               sep=';', encoding='utf-8')"
   ]
  },
  {
   "cell_type": "code",
   "execution_count": 3,
   "id": "ff9e9916-9414-4ec2-80ea-43fda2e7a689",
   "metadata": {},
   "outputs": [],
   "source": [
    "vars_names = variaveis_observa['Nome'].unique()"
   ]
  },
  {
   "cell_type": "code",
   "execution_count": 4,
   "id": "a5be3d40-2b93-4070-9438-b0bcab2a32af",
   "metadata": {},
   "outputs": [],
   "source": [
    "var_alunos = [var for var in vars_names if 'alun' in var.lower()]"
   ]
  },
  {
   "cell_type": "code",
   "execution_count": 5,
   "id": "56d22ba1-4363-4974-9f9b-ddd792890a3e",
   "metadata": {},
   "outputs": [
    {
     "data": {
      "text/plain": [
       "['V0008-Alunos rede municipal - sexo feminino',\n",
       " 'V0009-Alunos da rede municipal de ensino',\n",
       " 'V0010-Alunos rede municipal - sexo masculino',\n",
       " 'V0033-Alunos da rede municipal de ensino - raça/cor amarela',\n",
       " 'V0034-Alunos da rede municipal de ensino da raça/cor branca',\n",
       " 'V0035-Alunos da rede municipal de ensino da raça/cor indígena',\n",
       " 'V0036-Alunos da rede municipal de ensino da raça/cor parda',\n",
       " 'V0042-Alunos da rede municipal de ensino da raça/cor preta',\n",
       " 'V0044-Alunos do Ensino Fundamental que utilizam Transporte Escolar Gratuito',\n",
       " 'V0061-Alunos beneficiados com a distribuição de Uniformes e Materiais Escolares na Educação Infantil na rede municipal',\n",
       " 'V0062-Alunos beneficiados pelo Programa de Alimentação Escolar',\n",
       " 'V0070-Alunos beneficiados com a distribuição de Uniformes e Materiais Escolares no Ensino Fundamental na rede municipal',\n",
       " 'V0081-Alunos do Ensino Fundamental da rede municipal de ensino matriculados com idade acima da recomendada para a série (idade recomendada +2)',\n",
       " 'V0085-Alunos do Ensino Médio da rede municipal de ensino matriculados com idade acima da recomendada (idade recomendada+2) para a série',\n",
       " 'V0087-Soma de alunos aprovados, reprovados e que abandonaram a escola no Ensino Fundamental na rede municipal',\n",
       " 'V0088-Total de alunos do Ensino Fundamental da rede municipal que abandonaram a escola',\n",
       " 'V0090-Alunos do Ensino Médio da rede municipal que abandonaram a escola',\n",
       " 'V0091-Soma de alunos aprovados, reprovados e que abandonaram a escola no Ensino Médio na rede municipal',\n",
       " 'V0095-Alunos do Ensino Fundamental da rede municipal reprovados',\n",
       " 'V0097-Alunos do Ensino Médio da rede municipal de ensino reprovados',\n",
       " 'V0604-Alunos do Ensino Fundamental da rede municipal de ensino matriculados nas séries iniciais com idade acima da recomendada para a série (idade recomendada +2)',\n",
       " 'V0607-Alunos do Ensino Fundamental da rede municipal de ensino matriculados nas séries finais com idade acima da recomendada para a série (idade recomendada +2)',\n",
       " 'V0609-Número de alunos matriculados em tempo integral no Ensino Fundamental - anos iniciais',\n",
       " 'V0610-Número de alunos matriculados em tempo integral no Ensino Fundamental - anos finais',\n",
       " 'V0613-Dependências e vias adequadas a alunos com deficiência ou mobilidade reduzida',\n",
       " 'V0756-Número de professores e alunos formados pelo curso Defesa Civil na Escola']"
      ]
     },
     "execution_count": 5,
     "metadata": {},
     "output_type": "execute_result"
    }
   ],
   "source": [
    "var_alunos"
   ]
  },
  {
   "cell_type": "code",
   "execution_count": 6,
   "id": "e130791f-92af-4bc6-a734-0822514d2f53",
   "metadata": {},
   "outputs": [],
   "source": [
    "variaveis = pd.DataFrame(data=[], columns=['variavel', 'ano', 'regiao', 'valor'])"
   ]
  },
  {
   "cell_type": "code",
   "execution_count": 7,
   "id": "bfe2e0ab-5fed-4db7-8d26-d0eb0a7dcf7f",
   "metadata": {},
   "outputs": [
    {
     "data": {
      "text/html": [
       "<div>\n",
       "<style scoped>\n",
       "    .dataframe tbody tr th:only-of-type {\n",
       "        vertical-align: middle;\n",
       "    }\n",
       "\n",
       "    .dataframe tbody tr th {\n",
       "        vertical-align: top;\n",
       "    }\n",
       "\n",
       "    .dataframe thead th {\n",
       "        text-align: right;\n",
       "    }\n",
       "</style>\n",
       "<table border=\"1\" class=\"dataframe\">\n",
       "  <thead>\n",
       "    <tr style=\"text-align: right;\">\n",
       "      <th></th>\n",
       "      <th>variavel</th>\n",
       "      <th>ano</th>\n",
       "      <th>regiao</th>\n",
       "      <th>valor</th>\n",
       "    </tr>\n",
       "  </thead>\n",
       "  <tbody>\n",
       "  </tbody>\n",
       "</table>\n",
       "</div>"
      ],
      "text/plain": [
       "Empty DataFrame\n",
       "Columns: [variavel, ano, regiao, valor]\n",
       "Index: []"
      ]
     },
     "execution_count": 7,
     "metadata": {},
     "output_type": "execute_result"
    }
   ],
   "source": [
    "variaveis"
   ]
  },
  {
   "cell_type": "code",
   "execution_count": 8,
   "id": "7c9eeed8-9b66-4524-b251-855b48d4c0ec",
   "metadata": {},
   "outputs": [],
   "source": [
    "link_perfil_educandos = 'http://dados.prefeitura.sp.gov.br/dataset/b9c5faef-1a61-4814-b89e-bd7a73154ebc/resource/0a422138-92a3-422b-ab71-864d88634a50/download/idadeserieneeracadez22.csv'"
   ]
  },
  {
   "cell_type": "code",
   "execution_count": 9,
   "id": "88f4ed94-b065-40d4-84fa-b3a780e32b24",
   "metadata": {},
   "outputs": [],
   "source": [
    "download_csv(link_perfil_educandos, 'perfil_educandos.csv')"
   ]
  },
  {
   "cell_type": "code",
   "execution_count": 10,
   "id": "c4b9432f-0b59-4768-9af9-fd31887f5a56",
   "metadata": {},
   "outputs": [],
   "source": [
    "df = pd.read_csv(os.path.join('original_data', 'perfil_educandos.csv'),\n",
    "                sep=';')"
   ]
  },
  {
   "cell_type": "code",
   "execution_count": 11,
   "id": "5b1e9bef-d72b-408b-9e13-d1bf00ac58f5",
   "metadata": {},
   "outputs": [
    {
     "data": {
      "text/html": [
       "<div>\n",
       "<style scoped>\n",
       "    .dataframe tbody tr th:only-of-type {\n",
       "        vertical-align: middle;\n",
       "    }\n",
       "\n",
       "    .dataframe tbody tr th {\n",
       "        vertical-align: top;\n",
       "    }\n",
       "\n",
       "    .dataframe thead th {\n",
       "        text-align: right;\n",
       "    }\n",
       "</style>\n",
       "<table border=\"1\" class=\"dataframe\">\n",
       "  <thead>\n",
       "    <tr style=\"text-align: right;\">\n",
       "      <th></th>\n",
       "      <th>DRE</th>\n",
       "      <th>CODESC</th>\n",
       "      <th>TIPOESC</th>\n",
       "      <th>NOMESC</th>\n",
       "      <th>DISTRITO</th>\n",
       "      <th>SETOR</th>\n",
       "      <th>ANO</th>\n",
       "      <th>REDE</th>\n",
       "      <th>MODAL</th>\n",
       "      <th>DESCSERIE</th>\n",
       "      <th>PERIODO</th>\n",
       "      <th>TURNO</th>\n",
       "      <th>DESCTURNO</th>\n",
       "      <th>SEXO</th>\n",
       "      <th>IDADE</th>\n",
       "      <th>NEE</th>\n",
       "      <th>RACA</th>\n",
       "      <th>Qtde</th>\n",
       "      <th>DATABASE</th>\n",
       "    </tr>\n",
       "  </thead>\n",
       "  <tbody>\n",
       "    <tr>\n",
       "      <th>0</th>\n",
       "      <td>G</td>\n",
       "      <td>86</td>\n",
       "      <td>EMEI</td>\n",
       "      <td>PAULO CAMILHIER FLORENCANO</td>\n",
       "      <td>GUAIANASES</td>\n",
       "      <td>3103</td>\n",
       "      <td>2022</td>\n",
       "      <td>DIR</td>\n",
       "      <td>PRE</td>\n",
       "      <td>INFANTIL UNIF</td>\n",
       "      <td>DIURNO</td>\n",
       "      <td>1</td>\n",
       "      <td>Manhã</td>\n",
       "      <td>F</td>\n",
       "      <td>5</td>\n",
       "      <td>NAO POSSUI</td>\n",
       "      <td>BRANCA</td>\n",
       "      <td>3</td>\n",
       "      <td>30/12/2022 00:00</td>\n",
       "    </tr>\n",
       "    <tr>\n",
       "      <th>1</th>\n",
       "      <td>G</td>\n",
       "      <td>86</td>\n",
       "      <td>EMEI</td>\n",
       "      <td>PAULO CAMILHIER FLORENCANO</td>\n",
       "      <td>GUAIANASES</td>\n",
       "      <td>3103</td>\n",
       "      <td>2022</td>\n",
       "      <td>DIR</td>\n",
       "      <td>PRE</td>\n",
       "      <td>INFANTIL UNIF</td>\n",
       "      <td>DIURNO</td>\n",
       "      <td>1</td>\n",
       "      <td>Manhã</td>\n",
       "      <td>F</td>\n",
       "      <td>5</td>\n",
       "      <td>NAO POSSUI</td>\n",
       "      <td>NÃO DECLARADA</td>\n",
       "      <td>1</td>\n",
       "      <td>30/12/2022 00:00</td>\n",
       "    </tr>\n",
       "    <tr>\n",
       "      <th>2</th>\n",
       "      <td>G</td>\n",
       "      <td>86</td>\n",
       "      <td>EMEI</td>\n",
       "      <td>PAULO CAMILHIER FLORENCANO</td>\n",
       "      <td>GUAIANASES</td>\n",
       "      <td>3103</td>\n",
       "      <td>2022</td>\n",
       "      <td>DIR</td>\n",
       "      <td>PRE</td>\n",
       "      <td>INFANTIL UNIF</td>\n",
       "      <td>DIURNO</td>\n",
       "      <td>1</td>\n",
       "      <td>Manhã</td>\n",
       "      <td>F</td>\n",
       "      <td>5</td>\n",
       "      <td>NAO POSSUI</td>\n",
       "      <td>PARDA</td>\n",
       "      <td>6</td>\n",
       "      <td>30/12/2022 00:00</td>\n",
       "    </tr>\n",
       "    <tr>\n",
       "      <th>3</th>\n",
       "      <td>G</td>\n",
       "      <td>86</td>\n",
       "      <td>EMEI</td>\n",
       "      <td>PAULO CAMILHIER FLORENCANO</td>\n",
       "      <td>GUAIANASES</td>\n",
       "      <td>3103</td>\n",
       "      <td>2022</td>\n",
       "      <td>DIR</td>\n",
       "      <td>PRE</td>\n",
       "      <td>INFANTIL UNIF</td>\n",
       "      <td>DIURNO</td>\n",
       "      <td>1</td>\n",
       "      <td>Manhã</td>\n",
       "      <td>F</td>\n",
       "      <td>6</td>\n",
       "      <td>NAO POSSUI</td>\n",
       "      <td>BRANCA</td>\n",
       "      <td>2</td>\n",
       "      <td>30/12/2022 00:00</td>\n",
       "    </tr>\n",
       "    <tr>\n",
       "      <th>4</th>\n",
       "      <td>G</td>\n",
       "      <td>86</td>\n",
       "      <td>EMEI</td>\n",
       "      <td>PAULO CAMILHIER FLORENCANO</td>\n",
       "      <td>GUAIANASES</td>\n",
       "      <td>3103</td>\n",
       "      <td>2022</td>\n",
       "      <td>DIR</td>\n",
       "      <td>PRE</td>\n",
       "      <td>INFANTIL UNIF</td>\n",
       "      <td>DIURNO</td>\n",
       "      <td>1</td>\n",
       "      <td>Manhã</td>\n",
       "      <td>F</td>\n",
       "      <td>6</td>\n",
       "      <td>NAO POSSUI</td>\n",
       "      <td>PARDA</td>\n",
       "      <td>1</td>\n",
       "      <td>30/12/2022 00:00</td>\n",
       "    </tr>\n",
       "  </tbody>\n",
       "</table>\n",
       "</div>"
      ],
      "text/plain": [
       "  DRE  CODESC TIPOESC                      NOMESC    DISTRITO  SETOR   ANO  \\\n",
       "0   G      86    EMEI  PAULO CAMILHIER FLORENCANO  GUAIANASES   3103  2022   \n",
       "1   G      86    EMEI  PAULO CAMILHIER FLORENCANO  GUAIANASES   3103  2022   \n",
       "2   G      86    EMEI  PAULO CAMILHIER FLORENCANO  GUAIANASES   3103  2022   \n",
       "3   G      86    EMEI  PAULO CAMILHIER FLORENCANO  GUAIANASES   3103  2022   \n",
       "4   G      86    EMEI  PAULO CAMILHIER FLORENCANO  GUAIANASES   3103  2022   \n",
       "\n",
       "  REDE MODAL      DESCSERIE PERIODO  TURNO DESCTURNO SEXO  IDADE         NEE  \\\n",
       "0  DIR   PRE  INFANTIL UNIF  DIURNO      1     Manhã    F      5  NAO POSSUI   \n",
       "1  DIR   PRE  INFANTIL UNIF  DIURNO      1     Manhã    F      5  NAO POSSUI   \n",
       "2  DIR   PRE  INFANTIL UNIF  DIURNO      1     Manhã    F      5  NAO POSSUI   \n",
       "3  DIR   PRE  INFANTIL UNIF  DIURNO      1     Manhã    F      6  NAO POSSUI   \n",
       "4  DIR   PRE  INFANTIL UNIF  DIURNO      1     Manhã    F      6  NAO POSSUI   \n",
       "\n",
       "            RACA  Qtde          DATABASE  \n",
       "0         BRANCA     3  30/12/2022 00:00  \n",
       "1  NÃO DECLARADA     1  30/12/2022 00:00  \n",
       "2          PARDA     6  30/12/2022 00:00  \n",
       "3         BRANCA     2  30/12/2022 00:00  \n",
       "4          PARDA     1  30/12/2022 00:00  "
      ]
     },
     "execution_count": 11,
     "metadata": {},
     "output_type": "execute_result"
    }
   ],
   "source": [
    "df.head()"
   ]
  },
  {
   "cell_type": "code",
   "execution_count": 12,
   "id": "75cb540d-2fd6-42e3-9d28-be45356ca142",
   "metadata": {},
   "outputs": [
    {
     "data": {
      "text/plain": [
       "array([2022])"
      ]
     },
     "execution_count": 12,
     "metadata": {},
     "output_type": "execute_result"
    }
   ],
   "source": [
    "df['ANO'].unique()"
   ]
  },
  {
   "cell_type": "code",
   "execution_count": 13,
   "id": "043de9dc-a27e-41c9-8db4-8bec02618bc7",
   "metadata": {},
   "outputs": [
    {
     "data": {
      "text/plain": [
       "Index(['DRE', 'CODESC', 'TIPOESC', 'NOMESC', 'DISTRITO', 'SETOR', 'ANO',\n",
       "       'REDE', 'MODAL', 'DESCSERIE', 'PERIODO', 'TURNO', 'DESCTURNO', 'SEXO',\n",
       "       'IDADE', 'NEE', 'RACA', 'Qtde', 'DATABASE'],\n",
       "      dtype='object')"
      ]
     },
     "execution_count": 13,
     "metadata": {},
     "output_type": "execute_result"
    }
   ],
   "source": [
    "df.keys()"
   ]
  },
  {
   "cell_type": "code",
   "execution_count": 14,
   "id": "dd24763b-e545-4df8-bf41-adbbfe74d5b0",
   "metadata": {},
   "outputs": [
    {
     "data": {
      "text/plain": [
       "array(['BRANCA', 'NÃO DECLARADA', 'PARDA', 'RECUSOU INFORMA', 'PRETA',\n",
       "       'AMARELA', 'INDIGENA'], dtype=object)"
      ]
     },
     "execution_count": 14,
     "metadata": {},
     "output_type": "execute_result"
    }
   ],
   "source": [
    "df['RACA'].unique()"
   ]
  },
  {
   "cell_type": "code",
   "execution_count": 15,
   "id": "12e66809-5578-420a-8175-446e763c4faf",
   "metadata": {},
   "outputs": [],
   "source": [
    "raca_por_dist = df.groupby(['DISTRITO', 'RACA'])[['Qtde']].sum().reset_index()"
   ]
  },
  {
   "cell_type": "code",
   "execution_count": 16,
   "id": "7bcffc4f-c2ef-422e-b3d9-63556ddb1565",
   "metadata": {},
   "outputs": [
    {
     "data": {
      "text/html": [
       "<div>\n",
       "<style scoped>\n",
       "    .dataframe tbody tr th:only-of-type {\n",
       "        vertical-align: middle;\n",
       "    }\n",
       "\n",
       "    .dataframe tbody tr th {\n",
       "        vertical-align: top;\n",
       "    }\n",
       "\n",
       "    .dataframe thead th {\n",
       "        text-align: right;\n",
       "    }\n",
       "</style>\n",
       "<table border=\"1\" class=\"dataframe\">\n",
       "  <thead>\n",
       "    <tr style=\"text-align: right;\">\n",
       "      <th></th>\n",
       "      <th>DISTRITO</th>\n",
       "      <th>RACA</th>\n",
       "      <th>Qtde</th>\n",
       "    </tr>\n",
       "  </thead>\n",
       "  <tbody>\n",
       "    <tr>\n",
       "      <th>0</th>\n",
       "      <td>AGUA RASA</td>\n",
       "      <td>AMARELA</td>\n",
       "      <td>39</td>\n",
       "    </tr>\n",
       "    <tr>\n",
       "      <th>1</th>\n",
       "      <td>AGUA RASA</td>\n",
       "      <td>BRANCA</td>\n",
       "      <td>2573</td>\n",
       "    </tr>\n",
       "    <tr>\n",
       "      <th>2</th>\n",
       "      <td>AGUA RASA</td>\n",
       "      <td>INDIGENA</td>\n",
       "      <td>27</td>\n",
       "    </tr>\n",
       "    <tr>\n",
       "      <th>3</th>\n",
       "      <td>AGUA RASA</td>\n",
       "      <td>NÃO DECLARADA</td>\n",
       "      <td>2</td>\n",
       "    </tr>\n",
       "    <tr>\n",
       "      <th>4</th>\n",
       "      <td>AGUA RASA</td>\n",
       "      <td>PARDA</td>\n",
       "      <td>954</td>\n",
       "    </tr>\n",
       "  </tbody>\n",
       "</table>\n",
       "</div>"
      ],
      "text/plain": [
       "    DISTRITO           RACA  Qtde\n",
       "0  AGUA RASA        AMARELA    39\n",
       "1  AGUA RASA         BRANCA  2573\n",
       "2  AGUA RASA       INDIGENA    27\n",
       "3  AGUA RASA  NÃO DECLARADA     2\n",
       "4  AGUA RASA          PARDA   954"
      ]
     },
     "execution_count": 16,
     "metadata": {},
     "output_type": "execute_result"
    }
   ],
   "source": [
    "raca_por_dist.head()"
   ]
  },
  {
   "cell_type": "code",
   "execution_count": 17,
   "id": "374ed4e7-5e5d-46b7-b5ca-7cf57d4467da",
   "metadata": {},
   "outputs": [],
   "source": [
    "de_para_var_racas = {\n",
    "    'V0033-Alunos da rede municipal de ensino - raça/cor amarela' : 'AMARELA',\n",
    "     'V0034-Alunos da rede municipal de ensino da raça/cor branca' : 'BRANCA',\n",
    "     'V0035-Alunos da rede municipal de ensino da raça/cor indígena' : 'INDIGENA',\n",
    "     'V0036-Alunos da rede municipal de ensino da raça/cor parda' : 'PARDA',\n",
    "     'V0042-Alunos da rede municipal de ensino da raça/cor preta' : 'PRETA'\n",
    "}"
   ]
  },
  {
   "cell_type": "code",
   "execution_count": 18,
   "id": "a59156d9-5fa9-4f27-baff-a9e1325232f5",
   "metadata": {},
   "outputs": [],
   "source": [
    "for var, raca in de_para_var_racas.items():\n",
    "    \n",
    "    df_raca = raca_por_dist[raca_por_dist['RACA']==raca].copy()\n",
    "    df_raca['variavel'] = var\n",
    "    \n",
    "    df_raca.drop('RACA', axis=1, inplace=True)\n",
    "    df_raca['ano'] = 2022\n",
    "    df_raca.rename({'DISTRITO' : 'regiao',\n",
    "                   'Qtde' : 'valor'}, axis=1, inplace=True)\n",
    "    \n",
    "    variaveis = pd.concat([variaveis, df_raca])"
   ]
  },
  {
   "cell_type": "code",
   "execution_count": 19,
   "id": "60b76bd9-c8c6-4a6e-8aee-4ca2ea155581",
   "metadata": {},
   "outputs": [
    {
     "data": {
      "text/html": [
       "<div>\n",
       "<style scoped>\n",
       "    .dataframe tbody tr th:only-of-type {\n",
       "        vertical-align: middle;\n",
       "    }\n",
       "\n",
       "    .dataframe tbody tr th {\n",
       "        vertical-align: top;\n",
       "    }\n",
       "\n",
       "    .dataframe thead th {\n",
       "        text-align: right;\n",
       "    }\n",
       "</style>\n",
       "<table border=\"1\" class=\"dataframe\">\n",
       "  <thead>\n",
       "    <tr style=\"text-align: right;\">\n",
       "      <th></th>\n",
       "      <th>variavel</th>\n",
       "      <th>ano</th>\n",
       "      <th>regiao</th>\n",
       "      <th>valor</th>\n",
       "    </tr>\n",
       "  </thead>\n",
       "  <tbody>\n",
       "    <tr>\n",
       "      <th>0</th>\n",
       "      <td>V0033-Alunos da rede municipal de ensino - raç...</td>\n",
       "      <td>2022</td>\n",
       "      <td>AGUA RASA</td>\n",
       "      <td>39</td>\n",
       "    </tr>\n",
       "    <tr>\n",
       "      <th>7</th>\n",
       "      <td>V0033-Alunos da rede municipal de ensino - raç...</td>\n",
       "      <td>2022</td>\n",
       "      <td>ALTO DE PINHEIROS</td>\n",
       "      <td>8</td>\n",
       "    </tr>\n",
       "    <tr>\n",
       "      <th>12</th>\n",
       "      <td>V0033-Alunos da rede municipal de ensino - raç...</td>\n",
       "      <td>2022</td>\n",
       "      <td>ANHANGUERA</td>\n",
       "      <td>73</td>\n",
       "    </tr>\n",
       "    <tr>\n",
       "      <th>19</th>\n",
       "      <td>V0033-Alunos da rede municipal de ensino - raç...</td>\n",
       "      <td>2022</td>\n",
       "      <td>ARICANDUVA</td>\n",
       "      <td>14</td>\n",
       "    </tr>\n",
       "    <tr>\n",
       "      <th>26</th>\n",
       "      <td>V0033-Alunos da rede municipal de ensino - raç...</td>\n",
       "      <td>2022</td>\n",
       "      <td>ARTUR ALVIM</td>\n",
       "      <td>79</td>\n",
       "    </tr>\n",
       "    <tr>\n",
       "      <th>...</th>\n",
       "      <td>...</td>\n",
       "      <td>...</td>\n",
       "      <td>...</td>\n",
       "      <td>...</td>\n",
       "    </tr>\n",
       "    <tr>\n",
       "      <th>635</th>\n",
       "      <td>V0042-Alunos da rede municipal de ensino da ra...</td>\n",
       "      <td>2022</td>\n",
       "      <td>VILA MARIANA</td>\n",
       "      <td>83</td>\n",
       "    </tr>\n",
       "    <tr>\n",
       "      <th>642</th>\n",
       "      <td>V0042-Alunos da rede municipal de ensino da ra...</td>\n",
       "      <td>2022</td>\n",
       "      <td>VILA MATILDE</td>\n",
       "      <td>447</td>\n",
       "    </tr>\n",
       "    <tr>\n",
       "      <th>649</th>\n",
       "      <td>V0042-Alunos da rede municipal de ensino da ra...</td>\n",
       "      <td>2022</td>\n",
       "      <td>VILA MEDEIROS</td>\n",
       "      <td>361</td>\n",
       "    </tr>\n",
       "    <tr>\n",
       "      <th>656</th>\n",
       "      <td>V0042-Alunos da rede municipal de ensino da ra...</td>\n",
       "      <td>2022</td>\n",
       "      <td>VILA PRUDENTE</td>\n",
       "      <td>147</td>\n",
       "    </tr>\n",
       "    <tr>\n",
       "      <th>663</th>\n",
       "      <td>V0042-Alunos da rede municipal de ensino da ra...</td>\n",
       "      <td>2022</td>\n",
       "      <td>VILA SONIA</td>\n",
       "      <td>419</td>\n",
       "    </tr>\n",
       "  </tbody>\n",
       "</table>\n",
       "<p>477 rows × 4 columns</p>\n",
       "</div>"
      ],
      "text/plain": [
       "                                              variavel   ano  \\\n",
       "0    V0033-Alunos da rede municipal de ensino - raç...  2022   \n",
       "7    V0033-Alunos da rede municipal de ensino - raç...  2022   \n",
       "12   V0033-Alunos da rede municipal de ensino - raç...  2022   \n",
       "19   V0033-Alunos da rede municipal de ensino - raç...  2022   \n",
       "26   V0033-Alunos da rede municipal de ensino - raç...  2022   \n",
       "..                                                 ...   ...   \n",
       "635  V0042-Alunos da rede municipal de ensino da ra...  2022   \n",
       "642  V0042-Alunos da rede municipal de ensino da ra...  2022   \n",
       "649  V0042-Alunos da rede municipal de ensino da ra...  2022   \n",
       "656  V0042-Alunos da rede municipal de ensino da ra...  2022   \n",
       "663  V0042-Alunos da rede municipal de ensino da ra...  2022   \n",
       "\n",
       "                regiao valor  \n",
       "0            AGUA RASA    39  \n",
       "7    ALTO DE PINHEIROS     8  \n",
       "12          ANHANGUERA    73  \n",
       "19          ARICANDUVA    14  \n",
       "26         ARTUR ALVIM    79  \n",
       "..                 ...   ...  \n",
       "635       VILA MARIANA    83  \n",
       "642       VILA MATILDE   447  \n",
       "649      VILA MEDEIROS   361  \n",
       "656      VILA PRUDENTE   147  \n",
       "663         VILA SONIA   419  \n",
       "\n",
       "[477 rows x 4 columns]"
      ]
     },
     "execution_count": 19,
     "metadata": {},
     "output_type": "execute_result"
    }
   ],
   "source": [
    "variaveis"
   ]
  },
  {
   "cell_type": "code",
   "execution_count": 20,
   "id": "27f5214d-32aa-421c-bc78-e73998bb73a8",
   "metadata": {},
   "outputs": [
    {
     "data": {
      "text/plain": [
       "array(['F', 'M'], dtype=object)"
      ]
     },
     "execution_count": 20,
     "metadata": {},
     "output_type": "execute_result"
    }
   ],
   "source": [
    "df['SEXO'].unique()"
   ]
  },
  {
   "cell_type": "code",
   "execution_count": 21,
   "id": "03a2a271-502d-4370-9501-bf029fa9815c",
   "metadata": {},
   "outputs": [],
   "source": [
    "por_sexo = df.groupby(['DISTRITO', 'SEXO'])[['Qtde']].sum().reset_index()"
   ]
  },
  {
   "cell_type": "code",
   "execution_count": 22,
   "id": "a44638f7-bce9-45d3-89a9-e3b79c406b08",
   "metadata": {},
   "outputs": [
    {
     "data": {
      "text/html": [
       "<div>\n",
       "<style scoped>\n",
       "    .dataframe tbody tr th:only-of-type {\n",
       "        vertical-align: middle;\n",
       "    }\n",
       "\n",
       "    .dataframe tbody tr th {\n",
       "        vertical-align: top;\n",
       "    }\n",
       "\n",
       "    .dataframe thead th {\n",
       "        text-align: right;\n",
       "    }\n",
       "</style>\n",
       "<table border=\"1\" class=\"dataframe\">\n",
       "  <thead>\n",
       "    <tr style=\"text-align: right;\">\n",
       "      <th></th>\n",
       "      <th>DISTRITO</th>\n",
       "      <th>SEXO</th>\n",
       "      <th>Qtde</th>\n",
       "    </tr>\n",
       "  </thead>\n",
       "  <tbody>\n",
       "    <tr>\n",
       "      <th>0</th>\n",
       "      <td>AGUA RASA</td>\n",
       "      <td>F</td>\n",
       "      <td>1880</td>\n",
       "    </tr>\n",
       "    <tr>\n",
       "      <th>1</th>\n",
       "      <td>AGUA RASA</td>\n",
       "      <td>M</td>\n",
       "      <td>2078</td>\n",
       "    </tr>\n",
       "    <tr>\n",
       "      <th>2</th>\n",
       "      <td>ALTO DE PINHEIROS</td>\n",
       "      <td>F</td>\n",
       "      <td>167</td>\n",
       "    </tr>\n",
       "    <tr>\n",
       "      <th>3</th>\n",
       "      <td>ALTO DE PINHEIROS</td>\n",
       "      <td>M</td>\n",
       "      <td>172</td>\n",
       "    </tr>\n",
       "    <tr>\n",
       "      <th>4</th>\n",
       "      <td>ANHANGUERA</td>\n",
       "      <td>F</td>\n",
       "      <td>5802</td>\n",
       "    </tr>\n",
       "    <tr>\n",
       "      <th>...</th>\n",
       "      <td>...</td>\n",
       "      <td>...</td>\n",
       "      <td>...</td>\n",
       "    </tr>\n",
       "    <tr>\n",
       "      <th>187</th>\n",
       "      <td>VILA MEDEIROS</td>\n",
       "      <td>M</td>\n",
       "      <td>5026</td>\n",
       "    </tr>\n",
       "    <tr>\n",
       "      <th>188</th>\n",
       "      <td>VILA PRUDENTE</td>\n",
       "      <td>F</td>\n",
       "      <td>2724</td>\n",
       "    </tr>\n",
       "    <tr>\n",
       "      <th>189</th>\n",
       "      <td>VILA PRUDENTE</td>\n",
       "      <td>M</td>\n",
       "      <td>3022</td>\n",
       "    </tr>\n",
       "    <tr>\n",
       "      <th>190</th>\n",
       "      <td>VILA SONIA</td>\n",
       "      <td>F</td>\n",
       "      <td>4421</td>\n",
       "    </tr>\n",
       "    <tr>\n",
       "      <th>191</th>\n",
       "      <td>VILA SONIA</td>\n",
       "      <td>M</td>\n",
       "      <td>4754</td>\n",
       "    </tr>\n",
       "  </tbody>\n",
       "</table>\n",
       "<p>192 rows × 3 columns</p>\n",
       "</div>"
      ],
      "text/plain": [
       "              DISTRITO SEXO  Qtde\n",
       "0            AGUA RASA    F  1880\n",
       "1            AGUA RASA    M  2078\n",
       "2    ALTO DE PINHEIROS    F   167\n",
       "3    ALTO DE PINHEIROS    M   172\n",
       "4           ANHANGUERA    F  5802\n",
       "..                 ...  ...   ...\n",
       "187      VILA MEDEIROS    M  5026\n",
       "188      VILA PRUDENTE    F  2724\n",
       "189      VILA PRUDENTE    M  3022\n",
       "190         VILA SONIA    F  4421\n",
       "191         VILA SONIA    M  4754\n",
       "\n",
       "[192 rows x 3 columns]"
      ]
     },
     "execution_count": 22,
     "metadata": {},
     "output_type": "execute_result"
    }
   ],
   "source": [
    "por_sexo"
   ]
  },
  {
   "cell_type": "code",
   "execution_count": 23,
   "id": "ad4c08c3-66dc-49d4-a5f5-3f0d427d63b6",
   "metadata": {},
   "outputs": [],
   "source": [
    "de_para_var_sexo = {\n",
    "    'V0010-Alunos rede municipal - sexo masculino' : 'M',\n",
    "    'V0008-Alunos rede municipal - sexo feminino' : 'F'\n",
    "}"
   ]
  },
  {
   "cell_type": "code",
   "execution_count": 24,
   "id": "2170cdc8-6f1a-471e-b04b-b321caa0f6f0",
   "metadata": {},
   "outputs": [],
   "source": [
    "for var, sexo in de_para_var_sexo.items():\n",
    "    \n",
    "    df_sexo = por_sexo[por_sexo['SEXO']==sexo].copy()\n",
    "    df_sexo['variavel'] = var\n",
    "    \n",
    "    df_sexo.drop('SEXO', axis=1, inplace=True)\n",
    "    df_sexo['ano'] = 2022\n",
    "    df_sexo.rename({'DISTRITO' : 'regiao',\n",
    "                   'Qtde' : 'valor'}, axis=1, inplace=True)\n",
    "    \n",
    "    variaveis = pd.concat([variaveis, df_sexo])"
   ]
  },
  {
   "cell_type": "code",
   "execution_count": 25,
   "id": "9dc29269-d2b3-4111-b225-1863643ed1de",
   "metadata": {},
   "outputs": [
    {
     "data": {
      "text/html": [
       "<div>\n",
       "<style scoped>\n",
       "    .dataframe tbody tr th:only-of-type {\n",
       "        vertical-align: middle;\n",
       "    }\n",
       "\n",
       "    .dataframe tbody tr th {\n",
       "        vertical-align: top;\n",
       "    }\n",
       "\n",
       "    .dataframe thead th {\n",
       "        text-align: right;\n",
       "    }\n",
       "</style>\n",
       "<table border=\"1\" class=\"dataframe\">\n",
       "  <thead>\n",
       "    <tr style=\"text-align: right;\">\n",
       "      <th></th>\n",
       "      <th>variavel</th>\n",
       "      <th>ano</th>\n",
       "      <th>regiao</th>\n",
       "      <th>valor</th>\n",
       "    </tr>\n",
       "  </thead>\n",
       "  <tbody>\n",
       "    <tr>\n",
       "      <th>0</th>\n",
       "      <td>V0033-Alunos da rede municipal de ensino - raç...</td>\n",
       "      <td>2022</td>\n",
       "      <td>AGUA RASA</td>\n",
       "      <td>39</td>\n",
       "    </tr>\n",
       "    <tr>\n",
       "      <th>7</th>\n",
       "      <td>V0033-Alunos da rede municipal de ensino - raç...</td>\n",
       "      <td>2022</td>\n",
       "      <td>ALTO DE PINHEIROS</td>\n",
       "      <td>8</td>\n",
       "    </tr>\n",
       "    <tr>\n",
       "      <th>12</th>\n",
       "      <td>V0033-Alunos da rede municipal de ensino - raç...</td>\n",
       "      <td>2022</td>\n",
       "      <td>ANHANGUERA</td>\n",
       "      <td>73</td>\n",
       "    </tr>\n",
       "    <tr>\n",
       "      <th>19</th>\n",
       "      <td>V0033-Alunos da rede municipal de ensino - raç...</td>\n",
       "      <td>2022</td>\n",
       "      <td>ARICANDUVA</td>\n",
       "      <td>14</td>\n",
       "    </tr>\n",
       "    <tr>\n",
       "      <th>26</th>\n",
       "      <td>V0033-Alunos da rede municipal de ensino - raç...</td>\n",
       "      <td>2022</td>\n",
       "      <td>ARTUR ALVIM</td>\n",
       "      <td>79</td>\n",
       "    </tr>\n",
       "    <tr>\n",
       "      <th>...</th>\n",
       "      <td>...</td>\n",
       "      <td>...</td>\n",
       "      <td>...</td>\n",
       "      <td>...</td>\n",
       "    </tr>\n",
       "    <tr>\n",
       "      <th>182</th>\n",
       "      <td>V0008-Alunos rede municipal - sexo feminino</td>\n",
       "      <td>2022</td>\n",
       "      <td>VILA MARIANA</td>\n",
       "      <td>997</td>\n",
       "    </tr>\n",
       "    <tr>\n",
       "      <th>184</th>\n",
       "      <td>V0008-Alunos rede municipal - sexo feminino</td>\n",
       "      <td>2022</td>\n",
       "      <td>VILA MATILDE</td>\n",
       "      <td>3419</td>\n",
       "    </tr>\n",
       "    <tr>\n",
       "      <th>186</th>\n",
       "      <td>V0008-Alunos rede municipal - sexo feminino</td>\n",
       "      <td>2022</td>\n",
       "      <td>VILA MEDEIROS</td>\n",
       "      <td>4775</td>\n",
       "    </tr>\n",
       "    <tr>\n",
       "      <th>188</th>\n",
       "      <td>V0008-Alunos rede municipal - sexo feminino</td>\n",
       "      <td>2022</td>\n",
       "      <td>VILA PRUDENTE</td>\n",
       "      <td>2724</td>\n",
       "    </tr>\n",
       "    <tr>\n",
       "      <th>190</th>\n",
       "      <td>V0008-Alunos rede municipal - sexo feminino</td>\n",
       "      <td>2022</td>\n",
       "      <td>VILA SONIA</td>\n",
       "      <td>4421</td>\n",
       "    </tr>\n",
       "  </tbody>\n",
       "</table>\n",
       "<p>669 rows × 4 columns</p>\n",
       "</div>"
      ],
      "text/plain": [
       "                                              variavel   ano  \\\n",
       "0    V0033-Alunos da rede municipal de ensino - raç...  2022   \n",
       "7    V0033-Alunos da rede municipal de ensino - raç...  2022   \n",
       "12   V0033-Alunos da rede municipal de ensino - raç...  2022   \n",
       "19   V0033-Alunos da rede municipal de ensino - raç...  2022   \n",
       "26   V0033-Alunos da rede municipal de ensino - raç...  2022   \n",
       "..                                                 ...   ...   \n",
       "182        V0008-Alunos rede municipal - sexo feminino  2022   \n",
       "184        V0008-Alunos rede municipal - sexo feminino  2022   \n",
       "186        V0008-Alunos rede municipal - sexo feminino  2022   \n",
       "188        V0008-Alunos rede municipal - sexo feminino  2022   \n",
       "190        V0008-Alunos rede municipal - sexo feminino  2022   \n",
       "\n",
       "                regiao valor  \n",
       "0            AGUA RASA    39  \n",
       "7    ALTO DE PINHEIROS     8  \n",
       "12          ANHANGUERA    73  \n",
       "19          ARICANDUVA    14  \n",
       "26         ARTUR ALVIM    79  \n",
       "..                 ...   ...  \n",
       "182       VILA MARIANA   997  \n",
       "184       VILA MATILDE  3419  \n",
       "186      VILA MEDEIROS  4775  \n",
       "188      VILA PRUDENTE  2724  \n",
       "190         VILA SONIA  4421  \n",
       "\n",
       "[669 rows x 4 columns]"
      ]
     },
     "execution_count": 25,
     "metadata": {},
     "output_type": "execute_result"
    }
   ],
   "source": [
    "variaveis"
   ]
  },
  {
   "cell_type": "code",
   "execution_count": 26,
   "id": "2b02a90c-6fe1-42ee-be07-67d840e648d7",
   "metadata": {},
   "outputs": [],
   "source": [
    "total_por_dist = df.groupby('DISTRITO')[['Qtde']].sum().reset_index()"
   ]
  },
  {
   "cell_type": "code",
   "execution_count": 27,
   "id": "5f61b8b1-cdd5-458b-94da-80a8debed111",
   "metadata": {},
   "outputs": [
    {
     "data": {
      "text/html": [
       "<div>\n",
       "<style scoped>\n",
       "    .dataframe tbody tr th:only-of-type {\n",
       "        vertical-align: middle;\n",
       "    }\n",
       "\n",
       "    .dataframe tbody tr th {\n",
       "        vertical-align: top;\n",
       "    }\n",
       "\n",
       "    .dataframe thead th {\n",
       "        text-align: right;\n",
       "    }\n",
       "</style>\n",
       "<table border=\"1\" class=\"dataframe\">\n",
       "  <thead>\n",
       "    <tr style=\"text-align: right;\">\n",
       "      <th></th>\n",
       "      <th>DISTRITO</th>\n",
       "      <th>Qtde</th>\n",
       "    </tr>\n",
       "  </thead>\n",
       "  <tbody>\n",
       "    <tr>\n",
       "      <th>0</th>\n",
       "      <td>AGUA RASA</td>\n",
       "      <td>3958</td>\n",
       "    </tr>\n",
       "    <tr>\n",
       "      <th>1</th>\n",
       "      <td>ALTO DE PINHEIROS</td>\n",
       "      <td>339</td>\n",
       "    </tr>\n",
       "    <tr>\n",
       "      <th>2</th>\n",
       "      <td>ANHANGUERA</td>\n",
       "      <td>11386</td>\n",
       "    </tr>\n",
       "    <tr>\n",
       "      <th>3</th>\n",
       "      <td>ARICANDUVA</td>\n",
       "      <td>5078</td>\n",
       "    </tr>\n",
       "    <tr>\n",
       "      <th>4</th>\n",
       "      <td>ARTUR ALVIM</td>\n",
       "      <td>9618</td>\n",
       "    </tr>\n",
       "    <tr>\n",
       "      <th>...</th>\n",
       "      <td>...</td>\n",
       "      <td>...</td>\n",
       "    </tr>\n",
       "    <tr>\n",
       "      <th>91</th>\n",
       "      <td>VILA MARIANA</td>\n",
       "      <td>2093</td>\n",
       "    </tr>\n",
       "    <tr>\n",
       "      <th>92</th>\n",
       "      <td>VILA MATILDE</td>\n",
       "      <td>6994</td>\n",
       "    </tr>\n",
       "    <tr>\n",
       "      <th>93</th>\n",
       "      <td>VILA MEDEIROS</td>\n",
       "      <td>9801</td>\n",
       "    </tr>\n",
       "    <tr>\n",
       "      <th>94</th>\n",
       "      <td>VILA PRUDENTE</td>\n",
       "      <td>5746</td>\n",
       "    </tr>\n",
       "    <tr>\n",
       "      <th>95</th>\n",
       "      <td>VILA SONIA</td>\n",
       "      <td>9175</td>\n",
       "    </tr>\n",
       "  </tbody>\n",
       "</table>\n",
       "<p>96 rows × 2 columns</p>\n",
       "</div>"
      ],
      "text/plain": [
       "             DISTRITO   Qtde\n",
       "0           AGUA RASA   3958\n",
       "1   ALTO DE PINHEIROS    339\n",
       "2          ANHANGUERA  11386\n",
       "3          ARICANDUVA   5078\n",
       "4         ARTUR ALVIM   9618\n",
       "..                ...    ...\n",
       "91       VILA MARIANA   2093\n",
       "92       VILA MATILDE   6994\n",
       "93      VILA MEDEIROS   9801\n",
       "94      VILA PRUDENTE   5746\n",
       "95         VILA SONIA   9175\n",
       "\n",
       "[96 rows x 2 columns]"
      ]
     },
     "execution_count": 27,
     "metadata": {},
     "output_type": "execute_result"
    }
   ],
   "source": [
    "total_por_dist"
   ]
  },
  {
   "cell_type": "code",
   "execution_count": 28,
   "id": "5f75a521-6e69-4143-9bae-706971a85838",
   "metadata": {},
   "outputs": [],
   "source": [
    "total_por_dist['ano'] = 2022\n",
    "total_por_dist.rename({'DISTRITO' : 'regiao',\n",
    "                   'Qtde' : 'valor'}, axis=1, inplace=True)"
   ]
  },
  {
   "cell_type": "code",
   "execution_count": 29,
   "id": "5584bbe3-4ad3-4ff8-93e8-29283e06220a",
   "metadata": {},
   "outputs": [
    {
     "data": {
      "text/html": [
       "<div>\n",
       "<style scoped>\n",
       "    .dataframe tbody tr th:only-of-type {\n",
       "        vertical-align: middle;\n",
       "    }\n",
       "\n",
       "    .dataframe tbody tr th {\n",
       "        vertical-align: top;\n",
       "    }\n",
       "\n",
       "    .dataframe thead th {\n",
       "        text-align: right;\n",
       "    }\n",
       "</style>\n",
       "<table border=\"1\" class=\"dataframe\">\n",
       "  <thead>\n",
       "    <tr style=\"text-align: right;\">\n",
       "      <th></th>\n",
       "      <th>regiao</th>\n",
       "      <th>valor</th>\n",
       "      <th>ano</th>\n",
       "    </tr>\n",
       "  </thead>\n",
       "  <tbody>\n",
       "    <tr>\n",
       "      <th>0</th>\n",
       "      <td>AGUA RASA</td>\n",
       "      <td>3958</td>\n",
       "      <td>2022</td>\n",
       "    </tr>\n",
       "    <tr>\n",
       "      <th>1</th>\n",
       "      <td>ALTO DE PINHEIROS</td>\n",
       "      <td>339</td>\n",
       "      <td>2022</td>\n",
       "    </tr>\n",
       "    <tr>\n",
       "      <th>2</th>\n",
       "      <td>ANHANGUERA</td>\n",
       "      <td>11386</td>\n",
       "      <td>2022</td>\n",
       "    </tr>\n",
       "    <tr>\n",
       "      <th>3</th>\n",
       "      <td>ARICANDUVA</td>\n",
       "      <td>5078</td>\n",
       "      <td>2022</td>\n",
       "    </tr>\n",
       "    <tr>\n",
       "      <th>4</th>\n",
       "      <td>ARTUR ALVIM</td>\n",
       "      <td>9618</td>\n",
       "      <td>2022</td>\n",
       "    </tr>\n",
       "    <tr>\n",
       "      <th>...</th>\n",
       "      <td>...</td>\n",
       "      <td>...</td>\n",
       "      <td>...</td>\n",
       "    </tr>\n",
       "    <tr>\n",
       "      <th>91</th>\n",
       "      <td>VILA MARIANA</td>\n",
       "      <td>2093</td>\n",
       "      <td>2022</td>\n",
       "    </tr>\n",
       "    <tr>\n",
       "      <th>92</th>\n",
       "      <td>VILA MATILDE</td>\n",
       "      <td>6994</td>\n",
       "      <td>2022</td>\n",
       "    </tr>\n",
       "    <tr>\n",
       "      <th>93</th>\n",
       "      <td>VILA MEDEIROS</td>\n",
       "      <td>9801</td>\n",
       "      <td>2022</td>\n",
       "    </tr>\n",
       "    <tr>\n",
       "      <th>94</th>\n",
       "      <td>VILA PRUDENTE</td>\n",
       "      <td>5746</td>\n",
       "      <td>2022</td>\n",
       "    </tr>\n",
       "    <tr>\n",
       "      <th>95</th>\n",
       "      <td>VILA SONIA</td>\n",
       "      <td>9175</td>\n",
       "      <td>2022</td>\n",
       "    </tr>\n",
       "  </tbody>\n",
       "</table>\n",
       "<p>96 rows × 3 columns</p>\n",
       "</div>"
      ],
      "text/plain": [
       "               regiao  valor   ano\n",
       "0           AGUA RASA   3958  2022\n",
       "1   ALTO DE PINHEIROS    339  2022\n",
       "2          ANHANGUERA  11386  2022\n",
       "3          ARICANDUVA   5078  2022\n",
       "4         ARTUR ALVIM   9618  2022\n",
       "..                ...    ...   ...\n",
       "91       VILA MARIANA   2093  2022\n",
       "92       VILA MATILDE   6994  2022\n",
       "93      VILA MEDEIROS   9801  2022\n",
       "94      VILA PRUDENTE   5746  2022\n",
       "95         VILA SONIA   9175  2022\n",
       "\n",
       "[96 rows x 3 columns]"
      ]
     },
     "execution_count": 29,
     "metadata": {},
     "output_type": "execute_result"
    }
   ],
   "source": [
    "total_por_dist"
   ]
  },
  {
   "cell_type": "code",
   "execution_count": 30,
   "id": "da7bc167-bdce-4996-a4e4-7319e6ca006b",
   "metadata": {},
   "outputs": [],
   "source": [
    "total_por_dist['variavel'] = 'V0009-Alunos da rede municipal de ensino'"
   ]
  },
  {
   "cell_type": "code",
   "execution_count": 31,
   "id": "0792b560-f8a0-41d9-897e-600bd400402c",
   "metadata": {},
   "outputs": [
    {
     "data": {
      "text/html": [
       "<div>\n",
       "<style scoped>\n",
       "    .dataframe tbody tr th:only-of-type {\n",
       "        vertical-align: middle;\n",
       "    }\n",
       "\n",
       "    .dataframe tbody tr th {\n",
       "        vertical-align: top;\n",
       "    }\n",
       "\n",
       "    .dataframe thead th {\n",
       "        text-align: right;\n",
       "    }\n",
       "</style>\n",
       "<table border=\"1\" class=\"dataframe\">\n",
       "  <thead>\n",
       "    <tr style=\"text-align: right;\">\n",
       "      <th></th>\n",
       "      <th>regiao</th>\n",
       "      <th>valor</th>\n",
       "      <th>ano</th>\n",
       "      <th>variavel</th>\n",
       "    </tr>\n",
       "  </thead>\n",
       "  <tbody>\n",
       "    <tr>\n",
       "      <th>0</th>\n",
       "      <td>AGUA RASA</td>\n",
       "      <td>3958</td>\n",
       "      <td>2022</td>\n",
       "      <td>V0009-Alunos da rede municipal de ensino</td>\n",
       "    </tr>\n",
       "    <tr>\n",
       "      <th>1</th>\n",
       "      <td>ALTO DE PINHEIROS</td>\n",
       "      <td>339</td>\n",
       "      <td>2022</td>\n",
       "      <td>V0009-Alunos da rede municipal de ensino</td>\n",
       "    </tr>\n",
       "    <tr>\n",
       "      <th>2</th>\n",
       "      <td>ANHANGUERA</td>\n",
       "      <td>11386</td>\n",
       "      <td>2022</td>\n",
       "      <td>V0009-Alunos da rede municipal de ensino</td>\n",
       "    </tr>\n",
       "    <tr>\n",
       "      <th>3</th>\n",
       "      <td>ARICANDUVA</td>\n",
       "      <td>5078</td>\n",
       "      <td>2022</td>\n",
       "      <td>V0009-Alunos da rede municipal de ensino</td>\n",
       "    </tr>\n",
       "    <tr>\n",
       "      <th>4</th>\n",
       "      <td>ARTUR ALVIM</td>\n",
       "      <td>9618</td>\n",
       "      <td>2022</td>\n",
       "      <td>V0009-Alunos da rede municipal de ensino</td>\n",
       "    </tr>\n",
       "  </tbody>\n",
       "</table>\n",
       "</div>"
      ],
      "text/plain": [
       "              regiao  valor   ano                                  variavel\n",
       "0          AGUA RASA   3958  2022  V0009-Alunos da rede municipal de ensino\n",
       "1  ALTO DE PINHEIROS    339  2022  V0009-Alunos da rede municipal de ensino\n",
       "2         ANHANGUERA  11386  2022  V0009-Alunos da rede municipal de ensino\n",
       "3         ARICANDUVA   5078  2022  V0009-Alunos da rede municipal de ensino\n",
       "4        ARTUR ALVIM   9618  2022  V0009-Alunos da rede municipal de ensino"
      ]
     },
     "execution_count": 31,
     "metadata": {},
     "output_type": "execute_result"
    }
   ],
   "source": [
    "total_por_dist.head()"
   ]
  },
  {
   "cell_type": "code",
   "execution_count": 32,
   "id": "3546c1c6-8ea5-4f1b-a8f0-0965e0a7f977",
   "metadata": {},
   "outputs": [],
   "source": [
    "variaveis = pd.concat([variaveis, total_por_dist])"
   ]
  },
  {
   "cell_type": "code",
   "execution_count": 33,
   "id": "cb1e7cec-b0fa-4b3c-b88e-7b7b5bba2ee0",
   "metadata": {},
   "outputs": [
    {
     "data": {
      "text/plain": [
       "765"
      ]
     },
     "execution_count": 33,
     "metadata": {},
     "output_type": "execute_result"
    }
   ],
   "source": [
    "len(variaveis)"
   ]
  },
  {
   "cell_type": "code",
   "execution_count": 34,
   "id": "e4855421-deb8-4a0d-a743-bdc109a74480",
   "metadata": {},
   "outputs": [
    {
     "data": {
      "text/plain": [
       "array(['Manhã', 'Tarde', 'Intermediário', 'Integral', 'Vespertino',\n",
       "       'Noite'], dtype=object)"
      ]
     },
     "execution_count": 34,
     "metadata": {},
     "output_type": "execute_result"
    }
   ],
   "source": [
    "df['DESCTURNO'].unique()"
   ]
  },
  {
   "cell_type": "code",
   "execution_count": 35,
   "id": "79512677-e7cd-41c3-b3e8-80d5f18740c7",
   "metadata": {},
   "outputs": [],
   "source": [
    "integral = df[df['DESCTURNO']=='Integral'].reset_index(drop=True)"
   ]
  },
  {
   "cell_type": "code",
   "execution_count": 36,
   "id": "c557766e-63a4-4772-ba2a-9471830e15bc",
   "metadata": {},
   "outputs": [
    {
     "data": {
      "text/plain": [
       "Index(['DRE', 'CODESC', 'TIPOESC', 'NOMESC', 'DISTRITO', 'SETOR', 'ANO',\n",
       "       'REDE', 'MODAL', 'DESCSERIE', 'PERIODO', 'TURNO', 'DESCTURNO', 'SEXO',\n",
       "       'IDADE', 'NEE', 'RACA', 'Qtde', 'DATABASE'],\n",
       "      dtype='object')"
      ]
     },
     "execution_count": 36,
     "metadata": {},
     "output_type": "execute_result"
    }
   ],
   "source": [
    "integral.keys()"
   ]
  },
  {
   "cell_type": "code",
   "execution_count": 37,
   "id": "d4d18bb5-cb07-4439-8e58-f0f182f00be9",
   "metadata": {},
   "outputs": [
    {
     "name": "stdout",
     "output_type": "stream",
     "text": [
      "INFANTIL UNIF\n",
      "C.I 1.ANO F9\n",
      "C.I 2.ANO F9\n",
      "C.I 3.ANO F9\n",
      "C.II 4.ANO F9\n",
      "C.II 5.ANO F9\n",
      "C.II 6.ANO F9\n",
      "C.III 7.ANO F9\n",
      "C.III 8.ANO F9\n",
      "C.III 9.ANO F9\n",
      "ATCOMP\n",
      "EEC.I 1.ANO F9\n",
      "EEC.I 2.ANO F9\n",
      "EEC.I 3.ANO F9\n",
      "EEC.II 4.ANO F9\n",
      "EEC.II 5.ANO F9\n",
      "EEC.II 6.ANO F9\n",
      "EEC.III 7.ANO F9\n",
      "EEC.III 8.ANO F9\n",
      "EEC.III 9.ANO F9\n",
      "PAP\n",
      "EJA COMPL II\n",
      "EJA COMPL I\n",
      "EJA FINAL I\n",
      "EJA FINAL II\n",
      "INFANTIL I E II ESP\n",
      "OSL\n",
      "OIE\n",
      "EJA MII\n",
      "EJA MIII\n",
      "EJA MIV\n",
      "EJA BASICA II\n",
      "RP AUTORAL PORTUGUES\n",
      "RP AUTORAL MAT\n",
      "RP AUTORAL CIENC HUM\n",
      "RP AUTORAL CIENC NAT\n",
      "EJA ALF II\n",
      "EJA BASICA I\n",
      "EJA ALF I\n",
      "SAAI COMPL DI\n",
      "SAAI COMPL DF\n",
      "1A.SER.E.M.\n",
      "2A.SER.E.M.\n",
      "3A.SER E.M\n",
      "MI - ED PROF\n",
      "MINI GRUPO II\n",
      "EEC.I Biling\n",
      "PAEE COLAB\n",
      "BERCARIO I\n",
      "BERCARIO II\n",
      "MINI GRUPO I\n",
      "EE PRE\n",
      "SAAI COMPL DA\n",
      "EE 1S MED\n",
      "EE 3S MED\n",
      "EE 2S MED\n",
      "EJA MI\n",
      "1A.C.NORMAL\n",
      "2A.C.NORMAL\n",
      "3A.C.NORMAL\n",
      "4A.C.NORMAL\n",
      "CMCT\n",
      "MI CIEJA\n",
      "MII CIEJA\n",
      "MIII CIEJA\n",
      "MIV CIEJA\n",
      "INFANTIL I E II DIF\n",
      "MII - ED PROF\n",
      "MIII - ED PROF\n",
      "MINI G UNIF\n",
      "INFANTIL I E II CEI\n",
      "MOVA\n",
      "CONVEE\n",
      "CELP ESPANHOL\n",
      "CELP INGLES\n",
      "CELP ITALIANO\n",
      "CELP ALEMAO\n",
      "CELP FRANCES\n"
     ]
    }
   ],
   "source": [
    "for serie in df['DESCSERIE'].unique():\n",
    "    print(serie)"
   ]
  },
  {
   "cell_type": "code",
   "execution_count": 38,
   "id": "c504c694-400b-4af2-b7b8-9026be794421",
   "metadata": {},
   "outputs": [],
   "source": [
    "iniciais = range(1, 6)\n",
    "iniciais = [f'{i}.ANO' for i in iniciais]"
   ]
  },
  {
   "cell_type": "code",
   "execution_count": 39,
   "id": "c258c543-792b-418b-bfd6-64a3dbbb7abd",
   "metadata": {},
   "outputs": [
    {
     "data": {
      "text/plain": [
       "['1.ANO', '2.ANO', '3.ANO', '4.ANO', '5.ANO']"
      ]
     },
     "execution_count": 39,
     "metadata": {},
     "output_type": "execute_result"
    }
   ],
   "source": [
    "iniciais"
   ]
  },
  {
   "cell_type": "code",
   "execution_count": 40,
   "id": "b35f05de-8c00-4988-91b9-5a0dcf626fef",
   "metadata": {},
   "outputs": [],
   "source": [
    "finais = range(6, 10)\n",
    "finais = [f'{i}.ANO' for i in finais]"
   ]
  },
  {
   "cell_type": "code",
   "execution_count": 41,
   "id": "38418536-7dcb-4d9c-a2d1-6e89c98437fa",
   "metadata": {},
   "outputs": [
    {
     "data": {
      "text/plain": [
       "['6.ANO', '7.ANO', '8.ANO', '9.ANO']"
      ]
     },
     "execution_count": 41,
     "metadata": {},
     "output_type": "execute_result"
    }
   ],
   "source": [
    "finais"
   ]
  },
  {
   "cell_type": "code",
   "execution_count": 42,
   "id": "388727af-c5d9-45af-89e8-de53d300ea5e",
   "metadata": {},
   "outputs": [],
   "source": [
    "def definir_fund(serie:str)->str:\n",
    "    \n",
    "    for ano in iniciais:\n",
    "        if ano in serie:\n",
    "            return 'fund1'\n",
    "    \n",
    "    for ano in finais:\n",
    "        if ano in serie:\n",
    "            return 'fund2'\n",
    "    \n",
    "    return 'nao'"
   ]
  },
  {
   "cell_type": "code",
   "execution_count": 43,
   "id": "159d9053-d670-46b8-9310-9287edc009b1",
   "metadata": {},
   "outputs": [],
   "source": [
    "df['fundamental'] = df['DESCSERIE'].apply(definir_fund)"
   ]
  },
  {
   "cell_type": "code",
   "execution_count": 44,
   "id": "4ee91239-accd-4069-bc1e-2a0d74d88b47",
   "metadata": {},
   "outputs": [],
   "source": [
    "df['is_fundamental'] = df['fundamental']!='nao'"
   ]
  },
  {
   "cell_type": "code",
   "execution_count": 45,
   "id": "3b51032b-c518-4fda-b0fb-ba571549a94b",
   "metadata": {},
   "outputs": [
    {
     "data": {
      "text/plain": [
       "array(['C.I 1.ANO F9', 'C.I 2.ANO F9', 'C.I 3.ANO F9', 'C.II 4.ANO F9',\n",
       "       'C.II 5.ANO F9', 'C.II 6.ANO F9', 'C.III 7.ANO F9',\n",
       "       'C.III 8.ANO F9', 'C.III 9.ANO F9', 'EEC.I 1.ANO F9',\n",
       "       'EEC.I 2.ANO F9', 'EEC.I 3.ANO F9', 'EEC.II 4.ANO F9',\n",
       "       'EEC.II 5.ANO F9', 'EEC.II 6.ANO F9', 'EEC.III 7.ANO F9',\n",
       "       'EEC.III 8.ANO F9', 'EEC.III 9.ANO F9'], dtype=object)"
      ]
     },
     "execution_count": 45,
     "metadata": {},
     "output_type": "execute_result"
    }
   ],
   "source": [
    "df[df['is_fundamental']]['DESCSERIE'].unique()"
   ]
  },
  {
   "cell_type": "code",
   "execution_count": 46,
   "id": "4b574f67-32b1-470b-8776-b15b71af0803",
   "metadata": {},
   "outputs": [],
   "source": [
    "de_para_fund = {\n",
    "    'V0609-Número de alunos matriculados em tempo integral no Ensino Fundamental - anos iniciais' : 'fund1',\n",
    "     'V0610-Número de alunos matriculados em tempo integral no Ensino Fundamental - anos finais' : 'fund2'}"
   ]
  },
  {
   "cell_type": "code",
   "execution_count": 47,
   "id": "6ae3f96a-b338-4713-917f-07402ae02749",
   "metadata": {},
   "outputs": [],
   "source": [
    "integral['fundamental'] = integral['DESCSERIE'].apply(definir_fund)"
   ]
  },
  {
   "cell_type": "code",
   "execution_count": 48,
   "id": "c41c0144-6ce3-45a4-b9e6-dd96633b9459",
   "metadata": {},
   "outputs": [],
   "source": [
    "integral_por_fund = integral.groupby(['DISTRITO', 'fundamental'])[['Qtde']].sum().reset_index()"
   ]
  },
  {
   "cell_type": "code",
   "execution_count": 49,
   "id": "71a29d8e-f225-4fc0-a820-ceaff53f726b",
   "metadata": {},
   "outputs": [
    {
     "data": {
      "text/html": [
       "<div>\n",
       "<style scoped>\n",
       "    .dataframe tbody tr th:only-of-type {\n",
       "        vertical-align: middle;\n",
       "    }\n",
       "\n",
       "    .dataframe tbody tr th {\n",
       "        vertical-align: top;\n",
       "    }\n",
       "\n",
       "    .dataframe thead th {\n",
       "        text-align: right;\n",
       "    }\n",
       "</style>\n",
       "<table border=\"1\" class=\"dataframe\">\n",
       "  <thead>\n",
       "    <tr style=\"text-align: right;\">\n",
       "      <th></th>\n",
       "      <th>DISTRITO</th>\n",
       "      <th>fundamental</th>\n",
       "      <th>Qtde</th>\n",
       "    </tr>\n",
       "  </thead>\n",
       "  <tbody>\n",
       "    <tr>\n",
       "      <th>0</th>\n",
       "      <td>AGUA RASA</td>\n",
       "      <td>fund1</td>\n",
       "      <td>32</td>\n",
       "    </tr>\n",
       "    <tr>\n",
       "      <th>1</th>\n",
       "      <td>AGUA RASA</td>\n",
       "      <td>fund2</td>\n",
       "      <td>188</td>\n",
       "    </tr>\n",
       "    <tr>\n",
       "      <th>2</th>\n",
       "      <td>AGUA RASA</td>\n",
       "      <td>nao</td>\n",
       "      <td>1364</td>\n",
       "    </tr>\n",
       "    <tr>\n",
       "      <th>3</th>\n",
       "      <td>ALTO DE PINHEIROS</td>\n",
       "      <td>nao</td>\n",
       "      <td>339</td>\n",
       "    </tr>\n",
       "    <tr>\n",
       "      <th>4</th>\n",
       "      <td>ANHANGUERA</td>\n",
       "      <td>fund1</td>\n",
       "      <td>90</td>\n",
       "    </tr>\n",
       "    <tr>\n",
       "      <th>...</th>\n",
       "      <td>...</td>\n",
       "      <td>...</td>\n",
       "      <td>...</td>\n",
       "    </tr>\n",
       "    <tr>\n",
       "      <th>188</th>\n",
       "      <td>VILA MEDEIROS</td>\n",
       "      <td>fund2</td>\n",
       "      <td>77</td>\n",
       "    </tr>\n",
       "    <tr>\n",
       "      <th>189</th>\n",
       "      <td>VILA MEDEIROS</td>\n",
       "      <td>nao</td>\n",
       "      <td>4328</td>\n",
       "    </tr>\n",
       "    <tr>\n",
       "      <th>190</th>\n",
       "      <td>VILA PRUDENTE</td>\n",
       "      <td>nao</td>\n",
       "      <td>2529</td>\n",
       "    </tr>\n",
       "    <tr>\n",
       "      <th>191</th>\n",
       "      <td>VILA SONIA</td>\n",
       "      <td>fund1</td>\n",
       "      <td>183</td>\n",
       "    </tr>\n",
       "    <tr>\n",
       "      <th>192</th>\n",
       "      <td>VILA SONIA</td>\n",
       "      <td>nao</td>\n",
       "      <td>3810</td>\n",
       "    </tr>\n",
       "  </tbody>\n",
       "</table>\n",
       "<p>193 rows × 3 columns</p>\n",
       "</div>"
      ],
      "text/plain": [
       "              DISTRITO fundamental  Qtde\n",
       "0            AGUA RASA       fund1    32\n",
       "1            AGUA RASA       fund2   188\n",
       "2            AGUA RASA         nao  1364\n",
       "3    ALTO DE PINHEIROS         nao   339\n",
       "4           ANHANGUERA       fund1    90\n",
       "..                 ...         ...   ...\n",
       "188      VILA MEDEIROS       fund2    77\n",
       "189      VILA MEDEIROS         nao  4328\n",
       "190      VILA PRUDENTE         nao  2529\n",
       "191         VILA SONIA       fund1   183\n",
       "192         VILA SONIA         nao  3810\n",
       "\n",
       "[193 rows x 3 columns]"
      ]
     },
     "execution_count": 49,
     "metadata": {},
     "output_type": "execute_result"
    }
   ],
   "source": [
    "integral_por_fund"
   ]
  },
  {
   "cell_type": "code",
   "execution_count": 50,
   "id": "6fc5da85-7a1c-4dfb-85b8-8e0648646481",
   "metadata": {},
   "outputs": [],
   "source": [
    "integral_por_fund = integral_por_fund[integral_por_fund['fundamental']!='nao'].reset_index(drop=True)"
   ]
  },
  {
   "cell_type": "code",
   "execution_count": 51,
   "id": "31541bb2-0c23-4b08-95d7-25faa3e52437",
   "metadata": {},
   "outputs": [
    {
     "data": {
      "text/html": [
       "<div>\n",
       "<style scoped>\n",
       "    .dataframe tbody tr th:only-of-type {\n",
       "        vertical-align: middle;\n",
       "    }\n",
       "\n",
       "    .dataframe tbody tr th {\n",
       "        vertical-align: top;\n",
       "    }\n",
       "\n",
       "    .dataframe thead th {\n",
       "        text-align: right;\n",
       "    }\n",
       "</style>\n",
       "<table border=\"1\" class=\"dataframe\">\n",
       "  <thead>\n",
       "    <tr style=\"text-align: right;\">\n",
       "      <th></th>\n",
       "      <th>DISTRITO</th>\n",
       "      <th>fundamental</th>\n",
       "      <th>Qtde</th>\n",
       "    </tr>\n",
       "  </thead>\n",
       "  <tbody>\n",
       "    <tr>\n",
       "      <th>0</th>\n",
       "      <td>AGUA RASA</td>\n",
       "      <td>fund1</td>\n",
       "      <td>32</td>\n",
       "    </tr>\n",
       "    <tr>\n",
       "      <th>1</th>\n",
       "      <td>AGUA RASA</td>\n",
       "      <td>fund2</td>\n",
       "      <td>188</td>\n",
       "    </tr>\n",
       "    <tr>\n",
       "      <th>2</th>\n",
       "      <td>ANHANGUERA</td>\n",
       "      <td>fund1</td>\n",
       "      <td>90</td>\n",
       "    </tr>\n",
       "    <tr>\n",
       "      <th>3</th>\n",
       "      <td>ANHANGUERA</td>\n",
       "      <td>fund2</td>\n",
       "      <td>114</td>\n",
       "    </tr>\n",
       "    <tr>\n",
       "      <th>4</th>\n",
       "      <td>BRASILANDIA</td>\n",
       "      <td>fund1</td>\n",
       "      <td>258</td>\n",
       "    </tr>\n",
       "  </tbody>\n",
       "</table>\n",
       "</div>"
      ],
      "text/plain": [
       "      DISTRITO fundamental  Qtde\n",
       "0    AGUA RASA       fund1    32\n",
       "1    AGUA RASA       fund2   188\n",
       "2   ANHANGUERA       fund1    90\n",
       "3   ANHANGUERA       fund2   114\n",
       "4  BRASILANDIA       fund1   258"
      ]
     },
     "execution_count": 51,
     "metadata": {},
     "output_type": "execute_result"
    }
   ],
   "source": [
    "integral_por_fund.head()"
   ]
  },
  {
   "cell_type": "code",
   "execution_count": 52,
   "id": "3e50047a-c1a5-4550-be6c-b011f9deb866",
   "metadata": {},
   "outputs": [],
   "source": [
    "for var, fund in de_para_fund.items():\n",
    "    \n",
    "    df_fund = integral_por_fund[integral_por_fund['fundamental']==fund].copy()\n",
    "    df_fund['variavel'] = var\n",
    "    \n",
    "    df_fund.drop('fundamental', axis=1, inplace=True)\n",
    "    df_fund['ano'] = 2022\n",
    "    df_fund.rename({'DISTRITO' : 'regiao',\n",
    "                   'Qtde' : 'valor'}, axis=1, inplace=True)\n",
    "    \n",
    "    variaveis = pd.concat([variaveis, df_fund])"
   ]
  },
  {
   "cell_type": "code",
   "execution_count": 53,
   "id": "c01c12f6-a07b-4865-9cd2-799453bd8053",
   "metadata": {},
   "outputs": [
    {
     "data": {
      "text/html": [
       "<div>\n",
       "<style scoped>\n",
       "    .dataframe tbody tr th:only-of-type {\n",
       "        vertical-align: middle;\n",
       "    }\n",
       "\n",
       "    .dataframe tbody tr th {\n",
       "        vertical-align: top;\n",
       "    }\n",
       "\n",
       "    .dataframe thead th {\n",
       "        text-align: right;\n",
       "    }\n",
       "</style>\n",
       "<table border=\"1\" class=\"dataframe\">\n",
       "  <thead>\n",
       "    <tr style=\"text-align: right;\">\n",
       "      <th></th>\n",
       "      <th>variavel</th>\n",
       "      <th>ano</th>\n",
       "      <th>regiao</th>\n",
       "      <th>valor</th>\n",
       "    </tr>\n",
       "  </thead>\n",
       "  <tbody>\n",
       "    <tr>\n",
       "      <th>83</th>\n",
       "      <td>V0610-Número de alunos matriculados em tempo i...</td>\n",
       "      <td>2022</td>\n",
       "      <td>VILA CURUCA</td>\n",
       "      <td>265</td>\n",
       "    </tr>\n",
       "    <tr>\n",
       "      <th>87</th>\n",
       "      <td>V0610-Número de alunos matriculados em tempo i...</td>\n",
       "      <td>2022</td>\n",
       "      <td>VILA JACUI</td>\n",
       "      <td>157</td>\n",
       "    </tr>\n",
       "    <tr>\n",
       "      <th>89</th>\n",
       "      <td>V0610-Número de alunos matriculados em tempo i...</td>\n",
       "      <td>2022</td>\n",
       "      <td>VILA LEOPOLDINA</td>\n",
       "      <td>324</td>\n",
       "    </tr>\n",
       "    <tr>\n",
       "      <th>91</th>\n",
       "      <td>V0610-Número de alunos matriculados em tempo i...</td>\n",
       "      <td>2022</td>\n",
       "      <td>VILA MARIA</td>\n",
       "      <td>221</td>\n",
       "    </tr>\n",
       "    <tr>\n",
       "      <th>95</th>\n",
       "      <td>V0610-Número de alunos matriculados em tempo i...</td>\n",
       "      <td>2022</td>\n",
       "      <td>VILA MEDEIROS</td>\n",
       "      <td>77</td>\n",
       "    </tr>\n",
       "  </tbody>\n",
       "</table>\n",
       "</div>"
      ],
      "text/plain": [
       "                                             variavel   ano           regiao  \\\n",
       "83  V0610-Número de alunos matriculados em tempo i...  2022      VILA CURUCA   \n",
       "87  V0610-Número de alunos matriculados em tempo i...  2022       VILA JACUI   \n",
       "89  V0610-Número de alunos matriculados em tempo i...  2022  VILA LEOPOLDINA   \n",
       "91  V0610-Número de alunos matriculados em tempo i...  2022       VILA MARIA   \n",
       "95  V0610-Número de alunos matriculados em tempo i...  2022    VILA MEDEIROS   \n",
       "\n",
       "   valor  \n",
       "83   265  \n",
       "87   157  \n",
       "89   324  \n",
       "91   221  \n",
       "95    77  "
      ]
     },
     "execution_count": 53,
     "metadata": {},
     "output_type": "execute_result"
    }
   ],
   "source": [
    "variaveis.tail()"
   ]
  },
  {
   "cell_type": "code",
   "execution_count": 54,
   "id": "928b4308-4e4e-4dee-ab19-4e502cea4c83",
   "metadata": {},
   "outputs": [
    {
     "data": {
      "text/plain": [
       "862"
      ]
     },
     "execution_count": 54,
     "metadata": {},
     "output_type": "execute_result"
    }
   ],
   "source": [
    "len(variaveis)"
   ]
  },
  {
   "cell_type": "code",
   "execution_count": 55,
   "id": "2e78119c-2308-4d5c-9eec-0714867c120b",
   "metadata": {},
   "outputs": [],
   "source": [
    "link_distritos = '\thttps://geosampa.prefeitura.sp.gov.br/PaginasPublicas/downloadArquivo.aspx?orig=DownloadCamadas&arq=01_Limites Administrativos\\\\Distrito\\\\Shapefile\\\\SIRGAS_SHP_distrito&arqTipo=Shapefile'\n",
    "\n",
    "with requests.get(link_distritos) as r:\n",
    "    bytes_data=  r.content\n",
    "    \n",
    "with open(os.path.join('original_data', 'distritos.zip'), 'wb') as f:\n",
    "    f.write(bytes_data)\n",
    "    \n",
    "zipfile_ = ZipFile(os.path.join('original_data', 'distritos.zip'), 'r') "
   ]
  },
  {
   "cell_type": "code",
   "execution_count": 56,
   "id": "70d7f477-45f3-427a-99fa-e909e9768071",
   "metadata": {},
   "outputs": [
    {
     "data": {
      "text/plain": [
       "[<ZipInfo filename='SIRGAS_SHP_distrito/SIRGAS_SHP_distrito.dbf' compress_type=deflate external_attr=0x20 file_size=49026 compress_size=2885>,\n",
       " <ZipInfo filename='SIRGAS_SHP_distrito/SIRGAS_SHP_distrito.prj' compress_type=deflate external_attr=0x20 file_size=442 compress_size=281>,\n",
       " <ZipInfo filename='SIRGAS_SHP_distrito/SIRGAS_SHP_distrito.shp' compress_type=deflate external_attr=0x20 file_size=2489012 compress_size=1835166>,\n",
       " <ZipInfo filename='SIRGAS_SHP_distrito/SIRGAS_SHP_distrito.shx' compress_type=deflate external_attr=0x20 file_size=868 compress_size=675>]"
      ]
     },
     "execution_count": 56,
     "metadata": {},
     "output_type": "execute_result"
    }
   ],
   "source": [
    "zipfile_.filelist"
   ]
  },
  {
   "cell_type": "code",
   "execution_count": 57,
   "id": "ab23b5e1-5369-4fb9-842d-59718cc69aa4",
   "metadata": {},
   "outputs": [
    {
     "data": {
      "text/plain": [
       "'original_data/SIRGAS_SHP_distrito/SIRGAS_SHP_distrito.dbf'"
      ]
     },
     "execution_count": 57,
     "metadata": {},
     "output_type": "execute_result"
    }
   ],
   "source": [
    "zipfile_.extract('SIRGAS_SHP_distrito/SIRGAS_SHP_distrito.dbf', path='original_data')"
   ]
  },
  {
   "cell_type": "code",
   "execution_count": 58,
   "id": "6f85b4d9-7eb1-4d5f-8732-2e5abe9a6542",
   "metadata": {},
   "outputs": [],
   "source": [
    "dbf_path = os.path.join(os.path.join('original_data','SIRGAS_SHP_distrito'), 'SIRGAS_SHP_distrito.dbf')"
   ]
  },
  {
   "cell_type": "code",
   "execution_count": 59,
   "id": "dd2b4646-cb62-4a96-8c0f-c11d8a6fbda5",
   "metadata": {},
   "outputs": [],
   "source": [
    "dists = []\n",
    "for record in DBF(dbf_path):\n",
    "     dists.append(record)"
   ]
  },
  {
   "cell_type": "code",
   "execution_count": 60,
   "id": "0d7aa21b-69b2-400c-8c60-eec60a42339b",
   "metadata": {},
   "outputs": [],
   "source": [
    "df_dists = pd.DataFrame(dists)"
   ]
  },
  {
   "cell_type": "code",
   "execution_count": 61,
   "id": "9197e414-af65-489e-acdd-520c73638fbb",
   "metadata": {},
   "outputs": [
    {
     "data": {
      "text/html": [
       "<div>\n",
       "<style scoped>\n",
       "    .dataframe tbody tr th:only-of-type {\n",
       "        vertical-align: middle;\n",
       "    }\n",
       "\n",
       "    .dataframe tbody tr th {\n",
       "        vertical-align: top;\n",
       "    }\n",
       "\n",
       "    .dataframe thead th {\n",
       "        text-align: right;\n",
       "    }\n",
       "</style>\n",
       "<table border=\"1\" class=\"dataframe\">\n",
       "  <thead>\n",
       "    <tr style=\"text-align: right;\">\n",
       "      <th></th>\n",
       "      <th>ds_codigo</th>\n",
       "      <th>ds_nome</th>\n",
       "      <th>ds_sigla</th>\n",
       "      <th>ds_cd_sub</th>\n",
       "      <th>ds_subpref</th>\n",
       "      <th>ds_areamt</th>\n",
       "      <th>ds_areakmt</th>\n",
       "    </tr>\n",
       "  </thead>\n",
       "  <tbody>\n",
       "    <tr>\n",
       "      <th>0</th>\n",
       "      <td>51</td>\n",
       "      <td>MANDAQUI</td>\n",
       "      <td>MAN</td>\n",
       "      <td>05</td>\n",
       "      <td>SANTANA-TUCURUVI</td>\n",
       "      <td>1.324786e+07</td>\n",
       "      <td>13.25</td>\n",
       "    </tr>\n",
       "    <tr>\n",
       "      <th>1</th>\n",
       "      <td>52</td>\n",
       "      <td>MARSILAC</td>\n",
       "      <td>MAR</td>\n",
       "      <td>20</td>\n",
       "      <td>PARELHEIROS</td>\n",
       "      <td>2.081957e+08</td>\n",
       "      <td>208.20</td>\n",
       "    </tr>\n",
       "    <tr>\n",
       "      <th>2</th>\n",
       "      <td>32</td>\n",
       "      <td>MOEMA</td>\n",
       "      <td>MOE</td>\n",
       "      <td>12</td>\n",
       "      <td>VILA MARIANA</td>\n",
       "      <td>9.079516e+06</td>\n",
       "      <td>9.08</td>\n",
       "    </tr>\n",
       "    <tr>\n",
       "      <th>3</th>\n",
       "      <td>31</td>\n",
       "      <td>GUAIANASES</td>\n",
       "      <td>GUA</td>\n",
       "      <td>28</td>\n",
       "      <td>GUAIANASES</td>\n",
       "      <td>8.938527e+06</td>\n",
       "      <td>8.94</td>\n",
       "    </tr>\n",
       "    <tr>\n",
       "      <th>4</th>\n",
       "      <td>33</td>\n",
       "      <td>IGUATEMI</td>\n",
       "      <td>IGU</td>\n",
       "      <td>30</td>\n",
       "      <td>SAO MATEUS</td>\n",
       "      <td>1.958356e+07</td>\n",
       "      <td>19.58</td>\n",
       "    </tr>\n",
       "    <tr>\n",
       "      <th>...</th>\n",
       "      <td>...</td>\n",
       "      <td>...</td>\n",
       "      <td>...</td>\n",
       "      <td>...</td>\n",
       "      <td>...</td>\n",
       "      <td>...</td>\n",
       "      <td>...</td>\n",
       "    </tr>\n",
       "    <tr>\n",
       "      <th>91</th>\n",
       "      <td>17</td>\n",
       "      <td>CAMPO LIMPO</td>\n",
       "      <td>CLM</td>\n",
       "      <td>17</td>\n",
       "      <td>CAMPO LIMPO</td>\n",
       "      <td>1.259634e+07</td>\n",
       "      <td>12.60</td>\n",
       "    </tr>\n",
       "    <tr>\n",
       "      <th>92</th>\n",
       "      <td>41</td>\n",
       "      <td>JAGUARE</td>\n",
       "      <td>JRE</td>\n",
       "      <td>08</td>\n",
       "      <td>LAPA</td>\n",
       "      <td>6.579876e+06</td>\n",
       "      <td>6.58</td>\n",
       "    </tr>\n",
       "    <tr>\n",
       "      <th>93</th>\n",
       "      <td>42</td>\n",
       "      <td>JARAGUA</td>\n",
       "      <td>JAR</td>\n",
       "      <td>02</td>\n",
       "      <td>PIRITUBA-JARAGUA</td>\n",
       "      <td>2.833031e+07</td>\n",
       "      <td>28.33</td>\n",
       "    </tr>\n",
       "    <tr>\n",
       "      <th>94</th>\n",
       "      <td>44</td>\n",
       "      <td>JARDIM HELENA</td>\n",
       "      <td>JDH</td>\n",
       "      <td>23</td>\n",
       "      <td>SAO MIGUEL</td>\n",
       "      <td>9.148559e+06</td>\n",
       "      <td>9.15</td>\n",
       "    </tr>\n",
       "    <tr>\n",
       "      <th>95</th>\n",
       "      <td>45</td>\n",
       "      <td>JARDIM PAULISTA</td>\n",
       "      <td>JDP</td>\n",
       "      <td>11</td>\n",
       "      <td>PINHEIROS</td>\n",
       "      <td>6.186611e+06</td>\n",
       "      <td>6.19</td>\n",
       "    </tr>\n",
       "  </tbody>\n",
       "</table>\n",
       "<p>96 rows × 7 columns</p>\n",
       "</div>"
      ],
      "text/plain": [
       "   ds_codigo          ds_nome ds_sigla ds_cd_sub        ds_subpref  \\\n",
       "0         51         MANDAQUI      MAN        05  SANTANA-TUCURUVI   \n",
       "1         52         MARSILAC      MAR        20       PARELHEIROS   \n",
       "2         32            MOEMA      MOE        12      VILA MARIANA   \n",
       "3         31       GUAIANASES      GUA        28        GUAIANASES   \n",
       "4         33         IGUATEMI      IGU        30        SAO MATEUS   \n",
       "..       ...              ...      ...       ...               ...   \n",
       "91        17      CAMPO LIMPO      CLM        17       CAMPO LIMPO   \n",
       "92        41          JAGUARE      JRE        08              LAPA   \n",
       "93        42          JARAGUA      JAR        02  PIRITUBA-JARAGUA   \n",
       "94        44    JARDIM HELENA      JDH        23        SAO MIGUEL   \n",
       "95        45  JARDIM PAULISTA      JDP        11         PINHEIROS   \n",
       "\n",
       "       ds_areamt  ds_areakmt  \n",
       "0   1.324786e+07       13.25  \n",
       "1   2.081957e+08      208.20  \n",
       "2   9.079516e+06        9.08  \n",
       "3   8.938527e+06        8.94  \n",
       "4   1.958356e+07       19.58  \n",
       "..           ...         ...  \n",
       "91  1.259634e+07       12.60  \n",
       "92  6.579876e+06        6.58  \n",
       "93  2.833031e+07       28.33  \n",
       "94  9.148559e+06        9.15  \n",
       "95  6.186611e+06        6.19  \n",
       "\n",
       "[96 rows x 7 columns]"
      ]
     },
     "execution_count": 61,
     "metadata": {},
     "output_type": "execute_result"
    }
   ],
   "source": [
    "df_dists"
   ]
  },
  {
   "cell_type": "code",
   "execution_count": 62,
   "id": "969b9746-b193-46e6-994d-627b688b9e49",
   "metadata": {},
   "outputs": [
    {
     "data": {
      "text/plain": [
       "set()"
      ]
     },
     "execution_count": 62,
     "metadata": {},
     "output_type": "execute_result"
    }
   ],
   "source": [
    "set(variaveis['regiao'])-set(df_dists['ds_nome'])"
   ]
  },
  {
   "cell_type": "code",
   "execution_count": 63,
   "id": "92de3d7c-d719-48b4-bdf7-007720709cb5",
   "metadata": {},
   "outputs": [
    {
     "data": {
      "text/plain": [
       "862"
      ]
     },
     "execution_count": 63,
     "metadata": {},
     "output_type": "execute_result"
    }
   ],
   "source": [
    "len(variaveis)"
   ]
  },
  {
   "cell_type": "code",
   "execution_count": 64,
   "id": "e850701a-c4c6-4602-bf6c-0facf1784358",
   "metadata": {},
   "outputs": [],
   "source": [
    "dists_subs = df_dists[['ds_nome', 'ds_subpref']]"
   ]
  },
  {
   "cell_type": "code",
   "execution_count": 65,
   "id": "c62da425-d19d-4d00-bf16-aabfdfdd0eae",
   "metadata": {},
   "outputs": [],
   "source": [
    "tmp_subs = pd.merge(variaveis, dists_subs, how='left', left_on='regiao', right_on='ds_nome')"
   ]
  },
  {
   "cell_type": "code",
   "execution_count": 66,
   "id": "442f861e-04a2-43a7-a738-4ecc88bd77eb",
   "metadata": {},
   "outputs": [
    {
     "data": {
      "text/plain": [
       "False"
      ]
     },
     "execution_count": 66,
     "metadata": {},
     "output_type": "execute_result"
    }
   ],
   "source": [
    "tmp_subs['ds_subpref'].isnull().any()"
   ]
  },
  {
   "cell_type": "code",
   "execution_count": 67,
   "id": "d5007704-c8db-4c82-aee7-5b7c3cc40bc1",
   "metadata": {},
   "outputs": [],
   "source": [
    "tmp_subs = tmp_subs.groupby(['variavel', 'ds_subpref'])[['valor']].sum().reset_index()"
   ]
  },
  {
   "cell_type": "code",
   "execution_count": 68,
   "id": "a029be1d-1b5a-44b0-be91-fec9efeadda3",
   "metadata": {},
   "outputs": [
    {
     "data": {
      "text/html": [
       "<div>\n",
       "<style scoped>\n",
       "    .dataframe tbody tr th:only-of-type {\n",
       "        vertical-align: middle;\n",
       "    }\n",
       "\n",
       "    .dataframe tbody tr th {\n",
       "        vertical-align: top;\n",
       "    }\n",
       "\n",
       "    .dataframe thead th {\n",
       "        text-align: right;\n",
       "    }\n",
       "</style>\n",
       "<table border=\"1\" class=\"dataframe\">\n",
       "  <thead>\n",
       "    <tr style=\"text-align: right;\">\n",
       "      <th></th>\n",
       "      <th>variavel</th>\n",
       "      <th>ds_subpref</th>\n",
       "      <th>valor</th>\n",
       "    </tr>\n",
       "  </thead>\n",
       "  <tbody>\n",
       "    <tr>\n",
       "      <th>0</th>\n",
       "      <td>V0008-Alunos rede municipal - sexo feminino</td>\n",
       "      <td>ARICANDUVA-FORMOSA-CARRAO</td>\n",
       "      <td>7303</td>\n",
       "    </tr>\n",
       "    <tr>\n",
       "      <th>1</th>\n",
       "      <td>V0008-Alunos rede municipal - sexo feminino</td>\n",
       "      <td>BUTANTA</td>\n",
       "      <td>21277</td>\n",
       "    </tr>\n",
       "    <tr>\n",
       "      <th>2</th>\n",
       "      <td>V0008-Alunos rede municipal - sexo feminino</td>\n",
       "      <td>CAMPO LIMPO</td>\n",
       "      <td>47184</td>\n",
       "    </tr>\n",
       "    <tr>\n",
       "      <th>3</th>\n",
       "      <td>V0008-Alunos rede municipal - sexo feminino</td>\n",
       "      <td>CAPELA DO SOCORRO</td>\n",
       "      <td>31917</td>\n",
       "    </tr>\n",
       "    <tr>\n",
       "      <th>4</th>\n",
       "      <td>V0008-Alunos rede municipal - sexo feminino</td>\n",
       "      <td>CASA VERDE-CACHOEIRINHA</td>\n",
       "      <td>13049</td>\n",
       "    </tr>\n",
       "  </tbody>\n",
       "</table>\n",
       "</div>"
      ],
      "text/plain": [
       "                                      variavel                 ds_subpref  \\\n",
       "0  V0008-Alunos rede municipal - sexo feminino  ARICANDUVA-FORMOSA-CARRAO   \n",
       "1  V0008-Alunos rede municipal - sexo feminino                    BUTANTA   \n",
       "2  V0008-Alunos rede municipal - sexo feminino                CAMPO LIMPO   \n",
       "3  V0008-Alunos rede municipal - sexo feminino          CAPELA DO SOCORRO   \n",
       "4  V0008-Alunos rede municipal - sexo feminino    CASA VERDE-CACHOEIRINHA   \n",
       "\n",
       "   valor  \n",
       "0   7303  \n",
       "1  21277  \n",
       "2  47184  \n",
       "3  31917  \n",
       "4  13049  "
      ]
     },
     "execution_count": 68,
     "metadata": {},
     "output_type": "execute_result"
    }
   ],
   "source": [
    "tmp_subs.head()"
   ]
  },
  {
   "cell_type": "code",
   "execution_count": 69,
   "id": "7abd5c6e-68f3-4d01-ab7c-20c48e97a01e",
   "metadata": {},
   "outputs": [],
   "source": [
    "tmp_subs['ano'] = 2022"
   ]
  },
  {
   "cell_type": "code",
   "execution_count": 70,
   "id": "4f8ff051-3f9a-4703-b14e-4bdfbfec4ea2",
   "metadata": {},
   "outputs": [],
   "source": [
    "tmp_subs.rename({'ds_subpref' : 'regiao'}, axis=1, inplace=True)"
   ]
  },
  {
   "cell_type": "code",
   "execution_count": 71,
   "id": "aad62f53-ca43-4985-90a5-99e748053da7",
   "metadata": {},
   "outputs": [
    {
     "data": {
      "text/plain": [
       "862"
      ]
     },
     "execution_count": 71,
     "metadata": {},
     "output_type": "execute_result"
    }
   ],
   "source": [
    "len(variaveis)"
   ]
  },
  {
   "cell_type": "code",
   "execution_count": 72,
   "id": "49dd0513-cd4b-47f3-ae59-ec9dc1afb2b3",
   "metadata": {},
   "outputs": [
    {
     "data": {
      "text/plain": [
       "312"
      ]
     },
     "execution_count": 72,
     "metadata": {},
     "output_type": "execute_result"
    }
   ],
   "source": [
    "len(tmp_subs)"
   ]
  },
  {
   "cell_type": "code",
   "execution_count": 73,
   "id": "257654f3-531a-4ff0-bd0d-a39788d70ccf",
   "metadata": {},
   "outputs": [],
   "source": [
    "variaveis = pd.concat([variaveis, tmp_subs])"
   ]
  },
  {
   "cell_type": "code",
   "execution_count": 74,
   "id": "fdb50cb8-f49e-4c95-bcee-955d86c16d7e",
   "metadata": {},
   "outputs": [],
   "source": [
    "variaveis.to_csv('variaveis_perfil_alunos_educacao.csv', sep=';', encoding='utf-8', index=False)"
   ]
  }
 ],
 "metadata": {
  "kernelspec": {
   "display_name": "Python 3",
   "language": "python",
   "name": "python3"
  },
  "language_info": {
   "codemirror_mode": {
    "name": "ipython",
    "version": 3
   },
   "file_extension": ".py",
   "mimetype": "text/x-python",
   "name": "python",
   "nbconvert_exporter": "python",
   "pygments_lexer": "ipython3",
   "version": "3.8.8"
  }
 },
 "nbformat": 4,
 "nbformat_minor": 5
}
