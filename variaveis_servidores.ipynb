{
 "cells": [
  {
   "cell_type": "code",
   "execution_count": 1,
   "id": "b12730ca-99a5-4ecf-9771-aec0548dbcc7",
   "metadata": {},
   "outputs": [],
   "source": [
    "import pandas as pd\n",
    "import os\n",
    "from utils import download_csv"
   ]
  },
  {
   "cell_type": "code",
   "execution_count": 2,
   "id": "82dbad9f-f50d-484f-8e67-711a08bb3000",
   "metadata": {},
   "outputs": [],
   "source": [
    "link_variaveis = 'https://dados-abertos-observasampa.prefeitura.sp.gov.br/_temp/DadosAbertos/ObservaSampaDadosAbertosVariaveisCSV.csv'\n",
    "download_csv(link_variaveis, 'variaveis_observa.csv')"
   ]
  },
  {
   "cell_type": "code",
   "execution_count": 3,
   "id": "4ab7182e-a087-49f0-8f37-89b0313ce5db",
   "metadata": {},
   "outputs": [],
   "source": [
    "variaveis_observa = pd.read_csv(os.path.join('original_data', 'variaveis_observa.csv'),\n",
    "                               sep=';', encoding='utf-8')"
   ]
  },
  {
   "cell_type": "code",
   "execution_count": 4,
   "id": "423680e6-eecd-419b-b369-f67f7971deb7",
   "metadata": {},
   "outputs": [
    {
     "data": {
      "text/html": [
       "<div>\n",
       "<style scoped>\n",
       "    .dataframe tbody tr th:only-of-type {\n",
       "        vertical-align: middle;\n",
       "    }\n",
       "\n",
       "    .dataframe tbody tr th {\n",
       "        vertical-align: top;\n",
       "    }\n",
       "\n",
       "    .dataframe thead th {\n",
       "        text-align: right;\n",
       "    }\n",
       "</style>\n",
       "<table border=\"1\" class=\"dataframe\">\n",
       "  <thead>\n",
       "    <tr style=\"text-align: right;\">\n",
       "      <th></th>\n",
       "      <th>Nome</th>\n",
       "      <th>Região</th>\n",
       "      <th>Período</th>\n",
       "      <th>Resultado</th>\n",
       "    </tr>\n",
       "  </thead>\n",
       "  <tbody>\n",
       "    <tr>\n",
       "      <th>0</th>\n",
       "      <td>V0001-População total</td>\n",
       "      <td>GUAIANASES (Subprefeitura)</td>\n",
       "      <td>1996</td>\n",
       "      <td>226667</td>\n",
       "    </tr>\n",
       "    <tr>\n",
       "      <th>1</th>\n",
       "      <td>V0001-População total</td>\n",
       "      <td>Santa Cecília (Distrito)</td>\n",
       "      <td>2001</td>\n",
       "      <td>72630</td>\n",
       "    </tr>\n",
       "    <tr>\n",
       "      <th>2</th>\n",
       "      <td>V0001-População total</td>\n",
       "      <td>Moema (Distrito)</td>\n",
       "      <td>1996</td>\n",
       "      <td>74121</td>\n",
       "    </tr>\n",
       "    <tr>\n",
       "      <th>3</th>\n",
       "      <td>V0001-População total</td>\n",
       "      <td>Freguesia do Ó (Distrito)</td>\n",
       "      <td>2006</td>\n",
       "      <td>143782</td>\n",
       "    </tr>\n",
       "    <tr>\n",
       "      <th>4</th>\n",
       "      <td>V0001-População total</td>\n",
       "      <td>Cachoeirinha (Distrito)</td>\n",
       "      <td>1999</td>\n",
       "      <td>145161</td>\n",
       "    </tr>\n",
       "  </tbody>\n",
       "</table>\n",
       "</div>"
      ],
      "text/plain": [
       "                    Nome                      Região  Período Resultado\n",
       "0  V0001-População total  GUAIANASES (Subprefeitura)     1996    226667\n",
       "1  V0001-População total    Santa Cecília (Distrito)     2001     72630\n",
       "2  V0001-População total            Moema (Distrito)     1996     74121\n",
       "3  V0001-População total   Freguesia do Ó (Distrito)     2006    143782\n",
       "4  V0001-População total     Cachoeirinha (Distrito)     1999    145161"
      ]
     },
     "execution_count": 4,
     "metadata": {},
     "output_type": "execute_result"
    }
   ],
   "source": [
    "variaveis_observa.head()"
   ]
  },
  {
   "cell_type": "code",
   "execution_count": 5,
   "id": "8f06c8af-194e-4d48-9c66-cb5f8378ffb8",
   "metadata": {},
   "outputs": [],
   "source": [
    "vars_names = variaveis_observa['Nome'].unique()"
   ]
  },
  {
   "cell_type": "code",
   "execution_count": 6,
   "id": "1b8b5bc1-6a87-4774-a595-396591b7614f",
   "metadata": {},
   "outputs": [
    {
     "data": {
      "text/plain": [
       "755"
      ]
     },
     "execution_count": 6,
     "metadata": {},
     "output_type": "execute_result"
    }
   ],
   "source": [
    "len(vars_names)"
   ]
  },
  {
   "cell_type": "code",
   "execution_count": 7,
   "id": "8c95f2df-61b3-4867-9a4c-eb5eec2fda45",
   "metadata": {},
   "outputs": [],
   "source": [
    "var_servidores = [var for var in vars_names if 'servidor' in var.lower()]"
   ]
  },
  {
   "cell_type": "code",
   "execution_count": 8,
   "id": "15f97e15-5034-4bd2-9712-abf2fc826bd0",
   "metadata": {},
   "outputs": [
    {
     "data": {
      "text/plain": [
       "['V0199-Servidores municipais ativos da administração direta do governo',\n",
       " 'V0200-Servidores ativos da administração direta do governo municipal que se autodeclaram com deficiência',\n",
       " 'V0266-Servidoras ativas da administração direta do governo',\n",
       " 'V0267-Servidores ativos da administração direta do governo municipal que se autodeclaram negros',\n",
       " 'V0514-Servidoras da administração direta ativa com deficiência',\n",
       " 'V0518-Número de servidoras municipais ativas pretas',\n",
       " 'V0519-Número de servidoras municipais ativas pardas',\n",
       " 'V0520-Número de servidoras municipais ativas indígenas',\n",
       " 'V0521-Número de servidoras municipais ativas amarelas',\n",
       " 'V0522-Número de servidoras municipais ativas brancas',\n",
       " 'V0524-Número de ingresso de servidores(as) efetivos(as) negros(as) e afrodescendentes por meio da Lei de Cotas na Prefeitura',\n",
       " 'V0525-Número de ingressos de servidores(as) efetivos(as) na Prefeitura',\n",
       " 'V0528-Número de servidores em cargos gerenciais no governo do município',\n",
       " 'V0529-Número de servidoras em cargos gerenciais no governo do município',\n",
       " 'V0530-Total de servidores(as) municipais nas áreas Tecnologia da Informação e Comunicação da Prefeitura',\n",
       " 'V0531-Total de servidoras que trabalham em áreas de Tecnologia da Informação e Comunicação\\xa0da Prefeitura ',\n",
       " 'V0533-Número de servidoras negras em cargos gerenciais no governo do município',\n",
       " 'V0534-Número de servidores negros em cargos gerenciais no governo do município',\n",
       " 'V0821-Número de servidores ativos homens']"
      ]
     },
     "execution_count": 8,
     "metadata": {},
     "output_type": "execute_result"
    }
   ],
   "source": [
    "var_servidores"
   ]
  },
  {
   "cell_type": "code",
   "execution_count": 9,
   "id": "6704c0b8-8335-47a5-9686-100876a53613",
   "metadata": {},
   "outputs": [],
   "source": [
    "link_ativos = 'http://dados.prefeitura.sp.gov.br/dataset/bf5df0f4-4fb0-4a5e-b013-07d098cc7b1c/resource/8d882ad4-e497-43fb-9586-371eaa640a99/download/verificadoativos02-06-2023mai-2023.csv'"
   ]
  },
  {
   "cell_type": "code",
   "execution_count": 10,
   "id": "fd06533f-3d0d-4366-886c-b6fabf18517a",
   "metadata": {},
   "outputs": [],
   "source": [
    "download_csv(link_ativos, fname='serv_ativos.csv')"
   ]
  },
  {
   "cell_type": "code",
   "execution_count": 11,
   "id": "82ba783e-ac72-48c9-96a2-f3d281732bab",
   "metadata": {},
   "outputs": [],
   "source": [
    "df = pd.read_csv(os.path.join('original_data', 'serv_ativos.csv'),\n",
    "                encoding='latin-1', sep=';')"
   ]
  },
  {
   "cell_type": "code",
   "execution_count": 12,
   "id": "16094573-7a48-45d1-8854-d1b9233e9eed",
   "metadata": {},
   "outputs": [
    {
     "data": {
      "text/html": [
       "<div>\n",
       "<style scoped>\n",
       "    .dataframe tbody tr th:only-of-type {\n",
       "        vertical-align: middle;\n",
       "    }\n",
       "\n",
       "    .dataframe tbody tr th {\n",
       "        vertical-align: top;\n",
       "    }\n",
       "\n",
       "    .dataframe thead th {\n",
       "        text-align: right;\n",
       "    }\n",
       "</style>\n",
       "<table border=\"1\" class=\"dataframe\">\n",
       "  <thead>\n",
       "    <tr style=\"text-align: right;\">\n",
       "      <th></th>\n",
       "      <th>REGISTRO</th>\n",
       "      <th>VINCULO</th>\n",
       "      <th>NOME</th>\n",
       "      <th>CARGO_BASICO</th>\n",
       "      <th>REF_CARGO_BAS</th>\n",
       "      <th>SEGMENTO</th>\n",
       "      <th>GRUPO</th>\n",
       "      <th>SUBGRUPO</th>\n",
       "      <th>ESCOL_CARGO_BASICO</th>\n",
       "      <th>CARGO_COMISSAO</th>\n",
       "      <th>...</th>\n",
       "      <th>JORNADA</th>\n",
       "      <th>DATA_INICIO_EXERC</th>\n",
       "      <th>REL_JUR_ADM</th>\n",
       "      <th>SECRET_SUBPREF</th>\n",
       "      <th>SETOR</th>\n",
       "      <th>ORGAO_EXT</th>\n",
       "      <th>SEXO</th>\n",
       "      <th>ANO_NASCIMENTO</th>\n",
       "      <th>RACA</th>\n",
       "      <th>DEFICIENTE</th>\n",
       "    </tr>\n",
       "  </thead>\n",
       "  <tbody>\n",
       "    <tr>\n",
       "      <th>0</th>\n",
       "      <td>1145541</td>\n",
       "      <td>16</td>\n",
       "      <td>CLEUZA BORGES PEREIRA SILVA</td>\n",
       "      <td>ASSESSOR IV</td>\n",
       "      <td>CDA-4</td>\n",
       "      <td>NaN</td>\n",
       "      <td>QC</td>\n",
       "      <td>CARGO EM COMISSAO</td>\n",
       "      <td>NAO SE APLICA</td>\n",
       "      <td>NaN</td>\n",
       "      <td>...</td>\n",
       "      <td>40 H</td>\n",
       "      <td>01/06/2022</td>\n",
       "      <td>EM COMISSAO</td>\n",
       "      <td>SECRETARIA MUNICIPAL DE GESTAO</td>\n",
       "      <td>ASSESSORIA JURIDICA</td>\n",
       "      <td>NaN</td>\n",
       "      <td>F</td>\n",
       "      <td>1949</td>\n",
       "      <td>PARDA</td>\n",
       "      <td>NAO</td>\n",
       "    </tr>\n",
       "    <tr>\n",
       "      <th>1</th>\n",
       "      <td>1154231</td>\n",
       "      <td>2</td>\n",
       "      <td>IOLANDA RIGON</td>\n",
       "      <td>FISCAL DE POSTURAS MUNICIPAIS NIVEL III</td>\n",
       "      <td>QFPM14</td>\n",
       "      <td>NaN</td>\n",
       "      <td>QFPM</td>\n",
       "      <td>SUPERIOR</td>\n",
       "      <td>SUPERIOR COMPLETO</td>\n",
       "      <td>NaN</td>\n",
       "      <td>...</td>\n",
       "      <td>40 H</td>\n",
       "      <td>07/10/1992</td>\n",
       "      <td>EFETIVO</td>\n",
       "      <td>SUBPREFEITURA LAPA</td>\n",
       "      <td>UNIDADE TECNICA DE FISCALIZACAO</td>\n",
       "      <td>NaN</td>\n",
       "      <td>F</td>\n",
       "      <td>1949</td>\n",
       "      <td>BRANCA</td>\n",
       "      <td>NAO</td>\n",
       "    </tr>\n",
       "    <tr>\n",
       "      <th>2</th>\n",
       "      <td>1159470</td>\n",
       "      <td>2</td>\n",
       "      <td>JOSE EDUARDO SOARES DE CASTRO</td>\n",
       "      <td>ANALISTA DE INFORMACOES CULTURA E DESPORTO (NQ...</td>\n",
       "      <td>QDHS17</td>\n",
       "      <td>BIBLIOTECONOMIA</td>\n",
       "      <td>QDHS</td>\n",
       "      <td>SUPERIOR</td>\n",
       "      <td>SUPERIOR COMPLETO</td>\n",
       "      <td>NaN</td>\n",
       "      <td>...</td>\n",
       "      <td>40 H</td>\n",
       "      <td>13/08/1982</td>\n",
       "      <td>EFETIVO</td>\n",
       "      <td>PROCURADORIA GERAL DO MUNICIPIO</td>\n",
       "      <td>CENTRO ESTUDOS JURIDICOS - CEJUR</td>\n",
       "      <td>NaN</td>\n",
       "      <td>M</td>\n",
       "      <td>1951</td>\n",
       "      <td>BRANCA</td>\n",
       "      <td>NAO</td>\n",
       "    </tr>\n",
       "    <tr>\n",
       "      <th>3</th>\n",
       "      <td>1160478</td>\n",
       "      <td>2</td>\n",
       "      <td>JULIO DE CARVALHO</td>\n",
       "      <td>FISCAL DE POSTURAS MUNICIPAIS NIVEL III</td>\n",
       "      <td>QFPM13</td>\n",
       "      <td>NaN</td>\n",
       "      <td>QFPM</td>\n",
       "      <td>SUPERIOR</td>\n",
       "      <td>SUPERIOR COMPLETO</td>\n",
       "      <td>NaN</td>\n",
       "      <td>...</td>\n",
       "      <td>40 H</td>\n",
       "      <td>15/12/1981</td>\n",
       "      <td>EFETIVO</td>\n",
       "      <td>SUBPREFEITURA SANTANA/TUCURUVI</td>\n",
       "      <td>SUPERVISÃO TECNICA DE FISCALIZACAO</td>\n",
       "      <td>NaN</td>\n",
       "      <td>M</td>\n",
       "      <td>1951</td>\n",
       "      <td>BRANCA</td>\n",
       "      <td>NAO</td>\n",
       "    </tr>\n",
       "    <tr>\n",
       "      <th>4</th>\n",
       "      <td>1161181</td>\n",
       "      <td>9</td>\n",
       "      <td>NEUSA PEDRAO NASSIR</td>\n",
       "      <td>ASSESSOR V</td>\n",
       "      <td>CDA-5</td>\n",
       "      <td>NaN</td>\n",
       "      <td>QC</td>\n",
       "      <td>CARGO EM COMISSAO</td>\n",
       "      <td>NAO SE APLICA</td>\n",
       "      <td>NaN</td>\n",
       "      <td>...</td>\n",
       "      <td>40 H</td>\n",
       "      <td>01/06/2022</td>\n",
       "      <td>EM COMISSAO</td>\n",
       "      <td>SECRETARIA DO GOVERNO MUNICIPAL</td>\n",
       "      <td>ASSESSORIA JURIDICA</td>\n",
       "      <td>NaN</td>\n",
       "      <td>F</td>\n",
       "      <td>1947</td>\n",
       "      <td>BRANCA</td>\n",
       "      <td>NAO</td>\n",
       "    </tr>\n",
       "  </tbody>\n",
       "</table>\n",
       "<p>5 rows × 22 columns</p>\n",
       "</div>"
      ],
      "text/plain": [
       "   REGISTRO  VINCULO                           NOME  \\\n",
       "0   1145541       16    CLEUZA BORGES PEREIRA SILVA   \n",
       "1   1154231        2                  IOLANDA RIGON   \n",
       "2   1159470        2  JOSE EDUARDO SOARES DE CASTRO   \n",
       "3   1160478        2              JULIO DE CARVALHO   \n",
       "4   1161181        9            NEUSA PEDRAO NASSIR   \n",
       "\n",
       "                                        CARGO_BASICO REF_CARGO_BAS  \\\n",
       "0                                        ASSESSOR IV         CDA-4   \n",
       "1            FISCAL DE POSTURAS MUNICIPAIS NIVEL III        QFPM14   \n",
       "2  ANALISTA DE INFORMACOES CULTURA E DESPORTO (NQ...        QDHS17   \n",
       "3            FISCAL DE POSTURAS MUNICIPAIS NIVEL III        QFPM13   \n",
       "4                                         ASSESSOR V         CDA-5   \n",
       "\n",
       "          SEGMENTO GRUPO           SUBGRUPO ESCOL_CARGO_BASICO CARGO_COMISSAO  \\\n",
       "0              NaN    QC  CARGO EM COMISSAO      NAO SE APLICA            NaN   \n",
       "1              NaN  QFPM           SUPERIOR  SUPERIOR COMPLETO            NaN   \n",
       "2  BIBLIOTECONOMIA  QDHS           SUPERIOR  SUPERIOR COMPLETO            NaN   \n",
       "3              NaN  QFPM           SUPERIOR  SUPERIOR COMPLETO            NaN   \n",
       "4              NaN    QC  CARGO EM COMISSAO      NAO SE APLICA            NaN   \n",
       "\n",
       "   ... JORNADA DATA_INICIO_EXERC  REL_JUR_ADM  \\\n",
       "0  ...    40 H        01/06/2022  EM COMISSAO   \n",
       "1  ...    40 H        07/10/1992      EFETIVO   \n",
       "2  ...    40 H        13/08/1982      EFETIVO   \n",
       "3  ...    40 H        15/12/1981      EFETIVO   \n",
       "4  ...    40 H        01/06/2022  EM COMISSAO   \n",
       "\n",
       "                    SECRET_SUBPREF                                SETOR  \\\n",
       "0   SECRETARIA MUNICIPAL DE GESTAO                  ASSESSORIA JURIDICA   \n",
       "1               SUBPREFEITURA LAPA      UNIDADE TECNICA DE FISCALIZACAO   \n",
       "2  PROCURADORIA GERAL DO MUNICIPIO     CENTRO ESTUDOS JURIDICOS - CEJUR   \n",
       "3   SUBPREFEITURA SANTANA/TUCURUVI  SUPERVISÃO TECNICA DE FISCALIZACAO   \n",
       "4  SECRETARIA DO GOVERNO MUNICIPAL                  ASSESSORIA JURIDICA   \n",
       "\n",
       "  ORGAO_EXT SEXO ANO_NASCIMENTO    RACA  DEFICIENTE  \n",
       "0       NaN    F           1949   PARDA         NAO  \n",
       "1       NaN    F           1949  BRANCA         NAO  \n",
       "2       NaN    M           1951  BRANCA         NAO  \n",
       "3       NaN    M           1951  BRANCA         NAO  \n",
       "4       NaN    F           1947  BRANCA         NAO  \n",
       "\n",
       "[5 rows x 22 columns]"
      ]
     },
     "execution_count": 12,
     "metadata": {},
     "output_type": "execute_result"
    }
   ],
   "source": [
    "df.head()"
   ]
  },
  {
   "cell_type": "code",
   "execution_count": 13,
   "id": "a617bf14-fdba-4d3d-9ce7-74de197b7249",
   "metadata": {},
   "outputs": [
    {
     "data": {
      "text/plain": [
       "Index(['REGISTRO', 'VINCULO', 'NOME', 'CARGO_BASICO', 'REF_CARGO_BAS',\n",
       "       'SEGMENTO', 'GRUPO', 'SUBGRUPO', 'ESCOL_CARGO_BASICO', 'CARGO_COMISSAO',\n",
       "       'REF_CARGO_COM', 'ESCOL_CARGO_COMISSAO', 'JORNADA', 'DATA_INICIO_EXERC',\n",
       "       'REL_JUR_ADM', 'SECRET_SUBPREF', 'SETOR', 'ORGAO_EXT', 'SEXO',\n",
       "       'ANO_NASCIMENTO', 'RACA', 'DEFICIENTE'],\n",
       "      dtype='object')"
      ]
     },
     "execution_count": 13,
     "metadata": {},
     "output_type": "execute_result"
    }
   ],
   "source": [
    "df.keys()"
   ]
  },
  {
   "cell_type": "code",
   "execution_count": 14,
   "id": "8fe0b9f1-0857-45b7-9073-c5a179119792",
   "metadata": {},
   "outputs": [
    {
     "data": {
      "text/plain": [
       "array(['F', 'M'], dtype=object)"
      ]
     },
     "execution_count": 14,
     "metadata": {},
     "output_type": "execute_result"
    }
   ],
   "source": [
    "df['SEXO'].unique()"
   ]
  },
  {
   "cell_type": "code",
   "execution_count": 15,
   "id": "d56ab8b3-928b-4613-8d41-9f6111fa52f7",
   "metadata": {},
   "outputs": [
    {
     "data": {
      "text/plain": [
       "array(['PARDA', 'BRANCA', 'AMARELA', 'PRETA', 'NAO INFORMADO', 'INDIGENA'],\n",
       "      dtype=object)"
      ]
     },
     "execution_count": 15,
     "metadata": {},
     "output_type": "execute_result"
    }
   ],
   "source": [
    "df['RACA'].unique()"
   ]
  },
  {
   "cell_type": "code",
   "execution_count": 16,
   "id": "1b0cfdaa-6721-4075-9df9-cd80161baa72",
   "metadata": {},
   "outputs": [],
   "source": [
    "VARIAVEIS = {}"
   ]
  },
  {
   "cell_type": "code",
   "execution_count": 17,
   "id": "c5fb76e3-196a-492e-a8f3-5b60d9f15677",
   "metadata": {},
   "outputs": [],
   "source": [
    "VARIAVEIS['V0199-Servidores municipais ativos da administração direta do governo'] = \\\n",
    "    len(df)"
   ]
  },
  {
   "cell_type": "code",
   "execution_count": 18,
   "id": "e0fba501-f75d-4a5a-827a-397e437b817e",
   "metadata": {},
   "outputs": [
    {
     "data": {
      "text/plain": [
       "array(['NAO', 'SIM'], dtype=object)"
      ]
     },
     "execution_count": 18,
     "metadata": {},
     "output_type": "execute_result"
    }
   ],
   "source": [
    "df['DEFICIENTE'].unique()"
   ]
  },
  {
   "cell_type": "code",
   "execution_count": 19,
   "id": "90ffc0f7-6ff0-4ef3-871b-31ea4d3f9a82",
   "metadata": {},
   "outputs": [],
   "source": [
    "VARIAVEIS['V0200-Servidores ativos da administração direta do governo municipal que se autodeclaram com deficiência'] =\\\n",
    "    len(df[df['DEFICIENTE']=='SIM'])"
   ]
  },
  {
   "cell_type": "code",
   "execution_count": 20,
   "id": "07fda251-2b5f-4d82-a0c2-09fc7034ea4e",
   "metadata": {},
   "outputs": [],
   "source": [
    "VARIAVEIS['V0267-Servidores ativos da administração direta do governo municipal que se autodeclaram negros'] = \\\n",
    "    len(df[df['RACA'].isin(['PARDA', 'PRETA'])])"
   ]
  },
  {
   "cell_type": "code",
   "execution_count": 21,
   "id": "1b7d77c4-8458-4058-ab60-c818679fa36a",
   "metadata": {},
   "outputs": [],
   "source": [
    "mulheres = df[df['SEXO']=='F'].copy().reset_index(drop=True)"
   ]
  },
  {
   "cell_type": "code",
   "execution_count": 22,
   "id": "b04b8db2-c00e-43ca-aea2-a7e2cfaabc56",
   "metadata": {},
   "outputs": [],
   "source": [
    "VARIAVEIS['V0266-Servidoras ativas da administração direta do governo'] = \\\n",
    "    len(mulheres)"
   ]
  },
  {
   "cell_type": "code",
   "execution_count": 23,
   "id": "7160b2c1-92a1-40f6-8b92-cce9f45d003b",
   "metadata": {},
   "outputs": [],
   "source": [
    "VARIAVEIS['V0514-Servidoras da administração direta ativa com deficiência'] = \\\n",
    "    len(mulheres[mulheres['DEFICIENTE']=='SIM'])"
   ]
  },
  {
   "cell_type": "code",
   "execution_count": 24,
   "id": "d015fda4-005a-452d-8fbd-5dcd2ea5398f",
   "metadata": {},
   "outputs": [
    {
     "data": {
      "text/plain": [
       "array(['PARDA', 'BRANCA', 'AMARELA', 'PRETA', 'NAO INFORMADO', 'INDIGENA'],\n",
       "      dtype=object)"
      ]
     },
     "execution_count": 24,
     "metadata": {},
     "output_type": "execute_result"
    }
   ],
   "source": [
    "df['RACA'].unique()"
   ]
  },
  {
   "cell_type": "code",
   "execution_count": 25,
   "id": "d4746086-3e03-4852-b4fc-ac52df0dae9d",
   "metadata": {},
   "outputs": [],
   "source": [
    "VARIAVEIS['V0518-Número de servidoras municipais ativas pretas'] = \\\n",
    "            len(mulheres[mulheres['RACA']=='PRETA'])"
   ]
  },
  {
   "cell_type": "code",
   "execution_count": 26,
   "id": "b406e146-8d47-45ec-b65e-af5dd837e39d",
   "metadata": {},
   "outputs": [],
   "source": [
    "VARIAVEIS['V0519-Número de servidoras municipais ativas pardas'] = \\\n",
    "            len(mulheres[mulheres['RACA']=='PARDA'])"
   ]
  },
  {
   "cell_type": "code",
   "execution_count": 27,
   "id": "9a74a4ab-51f1-4144-8b3f-b986b391c8a5",
   "metadata": {},
   "outputs": [],
   "source": [
    "VARIAVEIS['V0520-Número de servidoras municipais ativas indígenas'] = \\\n",
    "            len(mulheres[mulheres['RACA']=='INDIGENA'])"
   ]
  },
  {
   "cell_type": "code",
   "execution_count": 28,
   "id": "9a109ccb-3d42-4ef8-9b91-5918eb567af8",
   "metadata": {},
   "outputs": [],
   "source": [
    "VARIAVEIS['V0521-Número de servidoras municipais ativas amarelas'] = \\\n",
    "            len(mulheres[mulheres['RACA']=='AMARELA'])"
   ]
  },
  {
   "cell_type": "code",
   "execution_count": 29,
   "id": "0b325f13-d0e2-4fc7-b7e5-6cf55cb350f8",
   "metadata": {},
   "outputs": [],
   "source": [
    "VARIAVEIS['V0522-Número de servidoras municipais ativas brancas'] = \\\n",
    "            len(mulheres[mulheres['RACA']=='BRANCA'])"
   ]
  },
  {
   "cell_type": "code",
   "execution_count": 30,
   "id": "7a2b7d73-c16f-4e53-abce-4639f2e1188a",
   "metadata": {},
   "outputs": [
    {
     "data": {
      "text/plain": [
       "Index(['REGISTRO', 'VINCULO', 'NOME', 'CARGO_BASICO', 'REF_CARGO_BAS',\n",
       "       'SEGMENTO', 'GRUPO', 'SUBGRUPO', 'ESCOL_CARGO_BASICO', 'CARGO_COMISSAO',\n",
       "       'REF_CARGO_COM', 'ESCOL_CARGO_COMISSAO', 'JORNADA', 'DATA_INICIO_EXERC',\n",
       "       'REL_JUR_ADM', 'SECRET_SUBPREF', 'SETOR', 'ORGAO_EXT', 'SEXO',\n",
       "       'ANO_NASCIMENTO', 'RACA', 'DEFICIENTE'],\n",
       "      dtype='object')"
      ]
     },
     "execution_count": 30,
     "metadata": {},
     "output_type": "execute_result"
    }
   ],
   "source": [
    "df.keys()"
   ]
  },
  {
   "cell_type": "code",
   "execution_count": 31,
   "id": "e7770cf5-1de3-47bc-9f7d-f853243cded0",
   "metadata": {},
   "outputs": [],
   "source": [
    "efetivos = df[df['REL_JUR_ADM']=='EFETIVO'].reset_index(drop=True)"
   ]
  },
  {
   "cell_type": "code",
   "execution_count": 32,
   "id": "16d75670-7acf-4766-b5e2-c0a4a6c32cb6",
   "metadata": {},
   "outputs": [
    {
     "name": "stdout",
     "output_type": "stream",
     "text": [
      "nan\n",
      "SUPERVISOR\n",
      "ASSISTENTE TECNICO DE EDUCACAO I\n",
      "ASSESSOR III\n",
      "ASSESSOR II\n",
      "ASSISTENTE DIRETOR DE ESCOLA\n",
      "CHEFE DE UNIDADE I\n",
      "ASSESSOR IV\n",
      "CHEFE DE ASSESSORIA II\n",
      "DIRETOR I\n",
      "CHEFE DE EQUIPE II\n",
      "ASSESSOR I\n",
      "CHEFE DE EQUIPE I\n",
      "ASSESSOR V\n",
      "GESTOR DE EQUIPAMENTO PUBLICO I\n",
      "COORDENADOR II\n",
      "INSPETOR DE ALUNOS\n",
      "CHEFE DE NUCLEO I\n",
      "CHEFE DE NUCLEO DE ACAO EDUCACIONAL\n",
      "DIRETOR REGIONAL DE EDUCACAO\n",
      "SUBPREFEITO\n",
      "SECRETARIO DE ESCOLA\n",
      "DIRETOR II\n",
      "GESTOR DE EQUIPAMENTO PUBLICO II\n",
      "PROCURADOR DA FAZENDA I\n",
      "GESTOR DE PROJETOS\n",
      "ASSESSOR JURIDICO IV\n",
      "COORDENADOR PEDAGOGICO\n",
      "CHEFE DE SUBPROCURADORIA I\n",
      "COMANDANTE OPERACIONAL\n",
      "COMANDANTE DE INSPETORIA\n",
      "AUXILIAR DE SECRETARIA\n",
      "COMANDANTE GERAL\n",
      "COORDENADOR I\n",
      "SUBCOMANDANTE\n",
      "CHEFE DE ASSESSORIA JURIDICA II\n",
      "COMANDANTE SUPERINTENDENTE\n",
      "ASSESSOR DE COMANDO I\n",
      "ASSESSOR DE COMANDO II\n",
      "GESTOR DE EQUIPAMENTO PUBLICO\n",
      "CHEFE DE GABINETE\n",
      "ENCARREGADO DE SERVIÃO\n",
      "DIRETOR DE ESCOLA\n",
      "ASSESSOR JURIDICO III\n",
      "ENCARREGADO DE EQUIPE TECNICA\n",
      "CHEFE DE SUBPROCURADORIA III\n",
      "ASSESSOR JURIDICO II\n",
      "AUXILIAR ADMINISTRATIVO DE ENSINO\n",
      "ASSESSOR TECNICO I\n",
      "PRESIDENTE DE COMISSAO PROCESSANTE I\n",
      "PROCURADOR COORDENADOR I\n",
      "CHEFE DE ASSESSORIA JURIDICA I\n",
      "REPRESENTANTE FISCAL\n",
      "ASSISTENTE TECNICO EDUCACIONAL\n",
      "SUPERVISOR ESCOLAR\n",
      "DIRETOR DE PROJETOS\n",
      "CHEFE DE REPRESENTACAO FISCAL\n",
      "CONSELHEIRO JULGADOR\n",
      "CHEFE DE NUCLEO II\n",
      "DIRETOR JURIDICO I\n",
      "CHEFE DE SUBPROCURADORIA II\n",
      "SECRETARIO-ADJUNTO\n",
      "DIRETOR JURIDICO II\n",
      "PROCURADOR CHEFE DA FAZENDA\n",
      "PROCURADOR GERAL DO MUNICIPIO\n",
      "CHEFE DE UNIDADE II\n",
      "PROCURADOR COORDENADOR II\n",
      "PROCURADOR GERAL ADJUNTO\n",
      "CHEFE DE NUCLEO DE ESPORTES E LAZER\n",
      "COORDENADOR JURIDICO II\n",
      "CHEFE DE ASSESSORIA TECNICA III\n",
      "ASSESSOR JURIDICO I\n",
      "PRESIDENTE DE CONSELHO\n",
      "SUBSECRETARIO\n",
      "CHEFE DE ASSESSORIA\n",
      "ASSESSOR JURIDICO V\n",
      "ASSESSOR VI\n",
      "SECRETARIO EXECUTIVO ADJUNTO\n",
      "VICE-PRESIDENTE DE CONSELHO\n",
      "CHEFE DE ASSESSORIA I\n",
      "AUDITOR GERAL DO MUNICIPIO\n"
     ]
    }
   ],
   "source": [
    "for c in df['CARGO_COMISSAO'].unique():\n",
    "    print(c)"
   ]
  },
  {
   "cell_type": "code",
   "execution_count": 33,
   "id": "bd182a74-4a86-483e-a01e-0e71ad3def23",
   "metadata": {},
   "outputs": [],
   "source": [
    "def cargo_comissao_gerencial(cargo:str)->bool:\n",
    "    \n",
    "    nao_gerenciais = [\n",
    "        'ASSISTENTE', 'ASSESSOR', 'INSPETOR', 'AUXILIAR',\n",
    "        'SECRETARIO DE ESCOLA'\n",
    "    ]\n",
    "    \n",
    "    if pd.isnull(cargo):\n",
    "        return False\n",
    "    \n",
    "    for titulo in nao_gerenciais:\n",
    "        if cargo.startswith(titulo):\n",
    "            return False\n",
    "    return True"
   ]
  },
  {
   "cell_type": "code",
   "execution_count": 34,
   "id": "5efc1751-a6b6-4598-b5fd-0354004623be",
   "metadata": {},
   "outputs": [],
   "source": [
    "df['is_gerencial'] = df['CARGO_COMISSAO'].apply(cargo_comissao_gerencial)"
   ]
  },
  {
   "cell_type": "code",
   "execution_count": 35,
   "id": "0250904d-fd4f-41d7-9c71-5205326d72ac",
   "metadata": {},
   "outputs": [],
   "source": [
    "cargos_gerenciais = df[df['is_gerencial']]['CARGO_COMISSAO'].unique()"
   ]
  },
  {
   "cell_type": "code",
   "execution_count": 36,
   "id": "1709ebb2-b7a1-42a0-a497-efd2a5cef507",
   "metadata": {},
   "outputs": [],
   "source": [
    "gerentes = df[df['is_gerencial']].reset_index(drop=True)"
   ]
  },
  {
   "cell_type": "code",
   "execution_count": 37,
   "id": "e1ee5ab4-ef81-4ec6-a8a9-1b0e08eb9701",
   "metadata": {},
   "outputs": [
    {
     "data": {
      "text/plain": [
       "['V0199-Servidores municipais ativos da administração direta do governo',\n",
       " 'V0200-Servidores ativos da administração direta do governo municipal que se autodeclaram com deficiência',\n",
       " 'V0266-Servidoras ativas da administração direta do governo',\n",
       " 'V0267-Servidores ativos da administração direta do governo municipal que se autodeclaram negros',\n",
       " 'V0514-Servidoras da administração direta ativa com deficiência',\n",
       " 'V0518-Número de servidoras municipais ativas pretas',\n",
       " 'V0519-Número de servidoras municipais ativas pardas',\n",
       " 'V0520-Número de servidoras municipais ativas indígenas',\n",
       " 'V0521-Número de servidoras municipais ativas amarelas',\n",
       " 'V0522-Número de servidoras municipais ativas brancas',\n",
       " 'V0524-Número de ingresso de servidores(as) efetivos(as) negros(as) e afrodescendentes por meio da Lei de Cotas na Prefeitura',\n",
       " 'V0525-Número de ingressos de servidores(as) efetivos(as) na Prefeitura',\n",
       " 'V0528-Número de servidores em cargos gerenciais no governo do município',\n",
       " 'V0529-Número de servidoras em cargos gerenciais no governo do município',\n",
       " 'V0530-Total de servidores(as) municipais nas áreas Tecnologia da Informação e Comunicação da Prefeitura',\n",
       " 'V0531-Total de servidoras que trabalham em áreas de Tecnologia da Informação e Comunicação\\xa0da Prefeitura ',\n",
       " 'V0533-Número de servidoras negras em cargos gerenciais no governo do município',\n",
       " 'V0534-Número de servidores negros em cargos gerenciais no governo do município',\n",
       " 'V0821-Número de servidores ativos homens']"
      ]
     },
     "execution_count": 37,
     "metadata": {},
     "output_type": "execute_result"
    }
   ],
   "source": [
    "var_servidores"
   ]
  },
  {
   "cell_type": "code",
   "execution_count": 38,
   "id": "ef60b753-ef8c-4d8f-a676-2ca316b480c1",
   "metadata": {},
   "outputs": [],
   "source": [
    "homens_gerentes = gerentes[gerentes['SEXO']=='M'].reset_index(drop=True)"
   ]
  },
  {
   "cell_type": "code",
   "execution_count": 39,
   "id": "89f25646-d727-464d-bc85-58754228b401",
   "metadata": {},
   "outputs": [],
   "source": [
    "VARIAVEIS['V0528-Número de servidores em cargos gerenciais no governo do município'] = \\\n",
    "    len(homens_gerentes)"
   ]
  },
  {
   "cell_type": "code",
   "execution_count": 40,
   "id": "fe156a09-da72-434c-af82-fffbd0bd3fb6",
   "metadata": {},
   "outputs": [],
   "source": [
    "mulheres_gerentes = gerentes[gerentes['SEXO']=='F'].reset_index(drop=True)"
   ]
  },
  {
   "cell_type": "code",
   "execution_count": 41,
   "id": "fd17d406-0600-466d-ab03-30d485693e1f",
   "metadata": {},
   "outputs": [],
   "source": [
    "VARIAVEIS['V0529-Número de servidoras em cargos gerenciais no governo do município'] = \\\n",
    "    len(mulheres_gerentes)"
   ]
  },
  {
   "cell_type": "code",
   "execution_count": 42,
   "id": "aad79fd3-c46a-43dd-8570-1dccc22cef4d",
   "metadata": {},
   "outputs": [],
   "source": [
    "VARIAVEIS['V0533-Número de servidoras negras em cargos gerenciais no governo do município'] = \\\n",
    "    len(mulheres_gerentes[mulheres_gerentes['RACA'].isin(['PARDA', 'PRETA'])])"
   ]
  },
  {
   "cell_type": "code",
   "execution_count": 43,
   "id": "7f13a955-ed2d-4ff1-9b79-76ea5c931d23",
   "metadata": {},
   "outputs": [],
   "source": [
    "VARIAVEIS['V0534-Número de servidores negros em cargos gerenciais no governo do município'] = \\\n",
    "    len(homens_gerentes[homens_gerentes['RACA'].isin(['PARDA', 'PRETA'])])"
   ]
  },
  {
   "cell_type": "code",
   "execution_count": 44,
   "id": "06591a1b-d4ae-4034-918c-32f3d74bc40c",
   "metadata": {},
   "outputs": [],
   "source": [
    "VARIAVEIS['V0821-Número de servidores ativos homens'] = \\\n",
    "    len(df[df['SEXO']=='M'])"
   ]
  },
  {
   "cell_type": "code",
   "execution_count": 45,
   "id": "060f04cf-58dd-423d-95ed-88a753044e4d",
   "metadata": {},
   "outputs": [],
   "source": [
    "VARIAVEIS = {nom : [val] for nom, val in VARIAVEIS.items()}"
   ]
  },
  {
   "cell_type": "code",
   "execution_count": 46,
   "id": "99fcfe42-9cd6-4b2f-bf85-b48f5f55b568",
   "metadata": {},
   "outputs": [],
   "source": [
    "df_final = pd.DataFrame.from_dict(VARIAVEIS).T"
   ]
  },
  {
   "cell_type": "code",
   "execution_count": 47,
   "id": "7c94b610-0f99-4cea-845c-25a6e348c316",
   "metadata": {},
   "outputs": [],
   "source": [
    "df_final = df_final.reset_index()"
   ]
  },
  {
   "cell_type": "code",
   "execution_count": 48,
   "id": "ef3cfbbb-ec89-4ab1-9307-1fdf1ea06b82",
   "metadata": {},
   "outputs": [],
   "source": [
    "df_final.rename({0 : 'valor',\n",
    "                'index' : 'variavel'}, axis=1, inplace=True)"
   ]
  },
  {
   "cell_type": "code",
   "execution_count": 49,
   "id": "37a6891b-dffb-421d-bdc2-d68446814797",
   "metadata": {},
   "outputs": [
    {
     "data": {
      "text/html": [
       "<div>\n",
       "<style scoped>\n",
       "    .dataframe tbody tr th:only-of-type {\n",
       "        vertical-align: middle;\n",
       "    }\n",
       "\n",
       "    .dataframe tbody tr th {\n",
       "        vertical-align: top;\n",
       "    }\n",
       "\n",
       "    .dataframe thead th {\n",
       "        text-align: right;\n",
       "    }\n",
       "</style>\n",
       "<table border=\"1\" class=\"dataframe\">\n",
       "  <thead>\n",
       "    <tr style=\"text-align: right;\">\n",
       "      <th></th>\n",
       "      <th>variavel</th>\n",
       "      <th>valor</th>\n",
       "    </tr>\n",
       "  </thead>\n",
       "  <tbody>\n",
       "    <tr>\n",
       "      <th>0</th>\n",
       "      <td>V0199-Servidores municipais ativos da administ...</td>\n",
       "      <td>125814</td>\n",
       "    </tr>\n",
       "    <tr>\n",
       "      <th>1</th>\n",
       "      <td>V0200-Servidores ativos da administração diret...</td>\n",
       "      <td>690</td>\n",
       "    </tr>\n",
       "    <tr>\n",
       "      <th>2</th>\n",
       "      <td>V0267-Servidores ativos da administração diret...</td>\n",
       "      <td>43967</td>\n",
       "    </tr>\n",
       "    <tr>\n",
       "      <th>3</th>\n",
       "      <td>V0266-Servidoras ativas da administração diret...</td>\n",
       "      <td>92259</td>\n",
       "    </tr>\n",
       "    <tr>\n",
       "      <th>4</th>\n",
       "      <td>V0514-Servidoras da administração direta ativa...</td>\n",
       "      <td>439</td>\n",
       "    </tr>\n",
       "    <tr>\n",
       "      <th>5</th>\n",
       "      <td>V0518-Número de servidoras municipais ativas p...</td>\n",
       "      <td>11105</td>\n",
       "    </tr>\n",
       "    <tr>\n",
       "      <th>6</th>\n",
       "      <td>V0519-Número de servidoras municipais ativas p...</td>\n",
       "      <td>20528</td>\n",
       "    </tr>\n",
       "    <tr>\n",
       "      <th>7</th>\n",
       "      <td>V0520-Número de servidoras municipais ativas i...</td>\n",
       "      <td>95</td>\n",
       "    </tr>\n",
       "    <tr>\n",
       "      <th>8</th>\n",
       "      <td>V0521-Número de servidoras municipais ativas a...</td>\n",
       "      <td>1383</td>\n",
       "    </tr>\n",
       "    <tr>\n",
       "      <th>9</th>\n",
       "      <td>V0522-Número de servidoras municipais ativas b...</td>\n",
       "      <td>59140</td>\n",
       "    </tr>\n",
       "    <tr>\n",
       "      <th>10</th>\n",
       "      <td>V0528-Número de servidores em cargos gerenciai...</td>\n",
       "      <td>804</td>\n",
       "    </tr>\n",
       "    <tr>\n",
       "      <th>11</th>\n",
       "      <td>V0529-Número de servidoras em cargos gerenciai...</td>\n",
       "      <td>1164</td>\n",
       "    </tr>\n",
       "    <tr>\n",
       "      <th>12</th>\n",
       "      <td>V0533-Número de servidoras negras em cargos ge...</td>\n",
       "      <td>316</td>\n",
       "    </tr>\n",
       "    <tr>\n",
       "      <th>13</th>\n",
       "      <td>V0534-Número de servidores negros em cargos ge...</td>\n",
       "      <td>193</td>\n",
       "    </tr>\n",
       "    <tr>\n",
       "      <th>14</th>\n",
       "      <td>V0821-Número de servidores ativos homens</td>\n",
       "      <td>33555</td>\n",
       "    </tr>\n",
       "  </tbody>\n",
       "</table>\n",
       "</div>"
      ],
      "text/plain": [
       "                                             variavel   valor\n",
       "0   V0199-Servidores municipais ativos da administ...  125814\n",
       "1   V0200-Servidores ativos da administração diret...     690\n",
       "2   V0267-Servidores ativos da administração diret...   43967\n",
       "3   V0266-Servidoras ativas da administração diret...   92259\n",
       "4   V0514-Servidoras da administração direta ativa...     439\n",
       "5   V0518-Número de servidoras municipais ativas p...   11105\n",
       "6   V0519-Número de servidoras municipais ativas p...   20528\n",
       "7   V0520-Número de servidoras municipais ativas i...      95\n",
       "8   V0521-Número de servidoras municipais ativas a...    1383\n",
       "9   V0522-Número de servidoras municipais ativas b...   59140\n",
       "10  V0528-Número de servidores em cargos gerenciai...     804\n",
       "11  V0529-Número de servidoras em cargos gerenciai...    1164\n",
       "12  V0533-Número de servidoras negras em cargos ge...     316\n",
       "13  V0534-Número de servidores negros em cargos ge...     193\n",
       "14           V0821-Número de servidores ativos homens   33555"
      ]
     },
     "execution_count": 49,
     "metadata": {},
     "output_type": "execute_result"
    }
   ],
   "source": [
    "df_final"
   ]
  },
  {
   "cell_type": "code",
   "execution_count": 50,
   "id": "fe7a6466-752d-4753-b98f-bc6f658f7790",
   "metadata": {},
   "outputs": [],
   "source": [
    "index_gerenciais = df_final[df_final['variavel'].str.contains('gerenc')].index"
   ]
  },
  {
   "cell_type": "code",
   "execution_count": 51,
   "id": "56db81b5-60b6-4fb5-bd6c-bb56c2fd0eb4",
   "metadata": {},
   "outputs": [],
   "source": [
    "df_final['obs'] = ''"
   ]
  },
  {
   "cell_type": "code",
   "execution_count": 52,
   "id": "c896b0ef-4bc1-4878-a82c-cf75265888f8",
   "metadata": {},
   "outputs": [],
   "source": [
    "df_final.loc[index_gerenciais, 'obs'] = f'Cargos gerenciais : {cargos_gerenciais}'"
   ]
  },
  {
   "cell_type": "code",
   "execution_count": 53,
   "id": "35fad4a1-3e25-4e6f-81b8-4023aa960dc1",
   "metadata": {},
   "outputs": [],
   "source": [
    "df_final.loc[0:3, 'obs'] = 'Considerando todos os servidores independente da variavel SEXO'"
   ]
  },
  {
   "cell_type": "code",
   "execution_count": 54,
   "id": "bc3c2126-1bf7-4fb4-8400-eb86a894acee",
   "metadata": {},
   "outputs": [],
   "source": [
    "df_final['obs'].fillna('', inplace=True)"
   ]
  },
  {
   "cell_type": "code",
   "execution_count": 57,
   "id": "7b54657b-4172-423d-8635-34bc53e359ff",
   "metadata": {},
   "outputs": [],
   "source": [
    "df_final['ano'] = 2023"
   ]
  },
  {
   "cell_type": "code",
   "execution_count": 59,
   "id": "9809e6fa-23a7-4227-b035-19b7f1245aba",
   "metadata": {},
   "outputs": [
    {
     "data": {
      "text/html": [
       "<div>\n",
       "<style scoped>\n",
       "    .dataframe tbody tr th:only-of-type {\n",
       "        vertical-align: middle;\n",
       "    }\n",
       "\n",
       "    .dataframe tbody tr th {\n",
       "        vertical-align: top;\n",
       "    }\n",
       "\n",
       "    .dataframe thead th {\n",
       "        text-align: right;\n",
       "    }\n",
       "</style>\n",
       "<table border=\"1\" class=\"dataframe\">\n",
       "  <thead>\n",
       "    <tr style=\"text-align: right;\">\n",
       "      <th></th>\n",
       "      <th>variavel</th>\n",
       "      <th>valor</th>\n",
       "      <th>obs</th>\n",
       "      <th>ano</th>\n",
       "    </tr>\n",
       "  </thead>\n",
       "  <tbody>\n",
       "    <tr>\n",
       "      <th>0</th>\n",
       "      <td>V0199-Servidores municipais ativos da administ...</td>\n",
       "      <td>125814</td>\n",
       "      <td>Considerando todos os servidores independente ...</td>\n",
       "      <td>2023</td>\n",
       "    </tr>\n",
       "    <tr>\n",
       "      <th>1</th>\n",
       "      <td>V0200-Servidores ativos da administração diret...</td>\n",
       "      <td>690</td>\n",
       "      <td>Considerando todos os servidores independente ...</td>\n",
       "      <td>2023</td>\n",
       "    </tr>\n",
       "    <tr>\n",
       "      <th>2</th>\n",
       "      <td>V0267-Servidores ativos da administração diret...</td>\n",
       "      <td>43967</td>\n",
       "      <td>Considerando todos os servidores independente ...</td>\n",
       "      <td>2023</td>\n",
       "    </tr>\n",
       "    <tr>\n",
       "      <th>3</th>\n",
       "      <td>V0266-Servidoras ativas da administração diret...</td>\n",
       "      <td>92259</td>\n",
       "      <td>Considerando todos os servidores independente ...</td>\n",
       "      <td>2023</td>\n",
       "    </tr>\n",
       "    <tr>\n",
       "      <th>4</th>\n",
       "      <td>V0514-Servidoras da administração direta ativa...</td>\n",
       "      <td>439</td>\n",
       "      <td></td>\n",
       "      <td>2023</td>\n",
       "    </tr>\n",
       "    <tr>\n",
       "      <th>5</th>\n",
       "      <td>V0518-Número de servidoras municipais ativas p...</td>\n",
       "      <td>11105</td>\n",
       "      <td></td>\n",
       "      <td>2023</td>\n",
       "    </tr>\n",
       "    <tr>\n",
       "      <th>6</th>\n",
       "      <td>V0519-Número de servidoras municipais ativas p...</td>\n",
       "      <td>20528</td>\n",
       "      <td></td>\n",
       "      <td>2023</td>\n",
       "    </tr>\n",
       "    <tr>\n",
       "      <th>7</th>\n",
       "      <td>V0520-Número de servidoras municipais ativas i...</td>\n",
       "      <td>95</td>\n",
       "      <td></td>\n",
       "      <td>2023</td>\n",
       "    </tr>\n",
       "    <tr>\n",
       "      <th>8</th>\n",
       "      <td>V0521-Número de servidoras municipais ativas a...</td>\n",
       "      <td>1383</td>\n",
       "      <td></td>\n",
       "      <td>2023</td>\n",
       "    </tr>\n",
       "    <tr>\n",
       "      <th>9</th>\n",
       "      <td>V0522-Número de servidoras municipais ativas b...</td>\n",
       "      <td>59140</td>\n",
       "      <td></td>\n",
       "      <td>2023</td>\n",
       "    </tr>\n",
       "    <tr>\n",
       "      <th>10</th>\n",
       "      <td>V0528-Número de servidores em cargos gerenciai...</td>\n",
       "      <td>804</td>\n",
       "      <td>Cargos gerenciais : ['SUPERVISOR' 'CHEFE DE UN...</td>\n",
       "      <td>2023</td>\n",
       "    </tr>\n",
       "    <tr>\n",
       "      <th>11</th>\n",
       "      <td>V0529-Número de servidoras em cargos gerenciai...</td>\n",
       "      <td>1164</td>\n",
       "      <td>Cargos gerenciais : ['SUPERVISOR' 'CHEFE DE UN...</td>\n",
       "      <td>2023</td>\n",
       "    </tr>\n",
       "    <tr>\n",
       "      <th>12</th>\n",
       "      <td>V0533-Número de servidoras negras em cargos ge...</td>\n",
       "      <td>316</td>\n",
       "      <td>Cargos gerenciais : ['SUPERVISOR' 'CHEFE DE UN...</td>\n",
       "      <td>2023</td>\n",
       "    </tr>\n",
       "    <tr>\n",
       "      <th>13</th>\n",
       "      <td>V0534-Número de servidores negros em cargos ge...</td>\n",
       "      <td>193</td>\n",
       "      <td>Cargos gerenciais : ['SUPERVISOR' 'CHEFE DE UN...</td>\n",
       "      <td>2023</td>\n",
       "    </tr>\n",
       "    <tr>\n",
       "      <th>14</th>\n",
       "      <td>V0821-Número de servidores ativos homens</td>\n",
       "      <td>33555</td>\n",
       "      <td></td>\n",
       "      <td>2023</td>\n",
       "    </tr>\n",
       "  </tbody>\n",
       "</table>\n",
       "</div>"
      ],
      "text/plain": [
       "                                             variavel   valor  \\\n",
       "0   V0199-Servidores municipais ativos da administ...  125814   \n",
       "1   V0200-Servidores ativos da administração diret...     690   \n",
       "2   V0267-Servidores ativos da administração diret...   43967   \n",
       "3   V0266-Servidoras ativas da administração diret...   92259   \n",
       "4   V0514-Servidoras da administração direta ativa...     439   \n",
       "5   V0518-Número de servidoras municipais ativas p...   11105   \n",
       "6   V0519-Número de servidoras municipais ativas p...   20528   \n",
       "7   V0520-Número de servidoras municipais ativas i...      95   \n",
       "8   V0521-Número de servidoras municipais ativas a...    1383   \n",
       "9   V0522-Número de servidoras municipais ativas b...   59140   \n",
       "10  V0528-Número de servidores em cargos gerenciai...     804   \n",
       "11  V0529-Número de servidoras em cargos gerenciai...    1164   \n",
       "12  V0533-Número de servidoras negras em cargos ge...     316   \n",
       "13  V0534-Número de servidores negros em cargos ge...     193   \n",
       "14           V0821-Número de servidores ativos homens   33555   \n",
       "\n",
       "                                                  obs   ano  \n",
       "0   Considerando todos os servidores independente ...  2023  \n",
       "1   Considerando todos os servidores independente ...  2023  \n",
       "2   Considerando todos os servidores independente ...  2023  \n",
       "3   Considerando todos os servidores independente ...  2023  \n",
       "4                                                      2023  \n",
       "5                                                      2023  \n",
       "6                                                      2023  \n",
       "7                                                      2023  \n",
       "8                                                      2023  \n",
       "9                                                      2023  \n",
       "10  Cargos gerenciais : ['SUPERVISOR' 'CHEFE DE UN...  2023  \n",
       "11  Cargos gerenciais : ['SUPERVISOR' 'CHEFE DE UN...  2023  \n",
       "12  Cargos gerenciais : ['SUPERVISOR' 'CHEFE DE UN...  2023  \n",
       "13  Cargos gerenciais : ['SUPERVISOR' 'CHEFE DE UN...  2023  \n",
       "14                                                     2023  "
      ]
     },
     "execution_count": 59,
     "metadata": {},
     "output_type": "execute_result"
    }
   ],
   "source": [
    "df_final"
   ]
  },
  {
   "cell_type": "code",
   "execution_count": 58,
   "id": "21ad8e20-d2a5-4567-a27b-a15201d501f3",
   "metadata": {},
   "outputs": [],
   "source": [
    "df_final.to_csv('variaveis_funcionalismo.csv', sep=';')"
   ]
  }
 ],
 "metadata": {
  "kernelspec": {
   "display_name": "Python 3",
   "language": "python",
   "name": "python3"
  },
  "language_info": {
   "codemirror_mode": {
    "name": "ipython",
    "version": 3
   },
   "file_extension": ".py",
   "mimetype": "text/x-python",
   "name": "python",
   "nbconvert_exporter": "python",
   "pygments_lexer": "ipython3",
   "version": "3.8.8"
  }
 },
 "nbformat": 4,
 "nbformat_minor": 5
}
